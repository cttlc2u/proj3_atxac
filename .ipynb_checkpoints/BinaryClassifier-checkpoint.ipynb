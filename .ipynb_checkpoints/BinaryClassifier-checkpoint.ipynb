{
 "cells": [
  {
   "cell_type": "code",
   "execution_count": 125,
   "id": "altered-mailing",
   "metadata": {},
   "outputs": [
    {
     "name": "stdout",
     "output_type": "stream",
     "text": [
      "Populating the interactive namespace from numpy and matplotlib\n"
     ]
    }
   ],
   "source": [
    "%pylab inline\n",
    "\n",
    "import pandas as pd\n",
    "import seaborn as sns\n",
    "sns.set()\n",
    "import pickle\n",
    "from sklearn.neighbors import KNeighborsClassifier , RadiusNeighborsClassifier\n",
    "from sklearn.linear_model import LogisticRegression, LogisticRegressionCV\n",
    "from sklearn.naive_bayes import BernoulliNB, MultinomialNB, GaussianNB\n",
    "from sklearn.tree import DecisionTreeClassifier\n",
    "from sklearn.model_selection import train_test_split , cross_val_score, StratifiedShuffleSplit, cross_val_predict\n",
    "from sklearn.preprocessing import StandardScaler, PolynomialFeatures, OneHotEncoder, LabelEncoder\n",
    "from sklearn import metrics\n",
    "from sklearn.dummy import DummyClassifier\n",
    "from sklearn.compose import make_column_transformer\n",
    "from sklearn.pipeline import make_pipeline\n",
    "from mlxtend.feature_selection import SequentialFeatureSelector"
   ]
  },
  {
   "cell_type": "code",
   "execution_count": 12,
   "id": "occupational-lounge",
   "metadata": {},
   "outputs": [],
   "source": [
    "with open('atxac_de.pickle', 'rb') as read_aacde:\n",
    "    atxac_df = pickle.load(read_aacde)"
   ]
  },
  {
   "cell_type": "code",
   "execution_count": 54,
   "id": "filled-hungary",
   "metadata": {},
   "outputs": [],
   "source": [
    "X = atxac_df.drop(columns=['Outcome_Type','Updated_Outcome_Type','Adoption'])\n",
    "y = atxac_df['Adoption']"
   ]
  },
  {
   "cell_type": "code",
   "execution_count": 55,
   "id": "running-bouquet",
   "metadata": {},
   "outputs": [],
   "source": [
    "X_train_val, X_test, y_train_val, y_test = train_test_split(X, y, test_size=.2, random_state=88,stratify=y)"
   ]
  },
  {
   "cell_type": "code",
   "execution_count": null,
   "id": "balanced-monitor",
   "metadata": {},
   "outputs": [],
   "source": [
    "X_train, X_val, y_train, y_val = train_test_split(X_train_val, y_train_val, test_size=.25, random_state=24,stratify=y_train_val)"
   ]
  },
  {
   "cell_type": "code",
   "execution_count": 5,
   "id": "received-polls",
   "metadata": {},
   "outputs": [],
   "source": [
    "#Stand. - 'AgeYrs' , 'TimeSinceIntake'\n",
    "num_features = ['AgeYrs' , 'TimeSinceIntake']\n",
    "#OHE - 'Sex','Spayed_Neutered','Sex_Upon_Outcome', 'OutcomeBreed' , 'OutcomeColor','Intake_Type','Intake_Condition','IntakeMonth','No_Known_Owner'\n",
    "cate_features = ['Sex','Spayed_Neutered','Sex_Upon_Outcome', 'OutcomeBreed' , 'OutcomeColor','Intake_Type','Intake_Condition','IntakeMonth','No_Known_Owner']\n",
    "combined = num_features+cate_features"
   ]
  },
  {
   "cell_type": "code",
   "execution_count": 27,
   "id": "buried-dispatch",
   "metadata": {},
   "outputs": [
    {
     "data": {
      "text/plain": [
       "AgeYrs              float64\n",
       "TimeSinceIntake     float64\n",
       "Sex                  object\n",
       "Spayed_Neutered      object\n",
       "Sex_Upon_Outcome     object\n",
       "OutcomeBreed         object\n",
       "OutcomeColor         object\n",
       "Intake_Type          object\n",
       "Intake_Condition     object\n",
       "IntakeMonth           int64\n",
       "No_Known_Owner      float64\n",
       "dtype: object"
      ]
     },
     "execution_count": 27,
     "metadata": {},
     "output_type": "execute_result"
    }
   ],
   "source": [
    "atxac_df[combined].dtypes"
   ]
  },
  {
   "cell_type": "code",
   "execution_count": 22,
   "id": "collective-gauge",
   "metadata": {},
   "outputs": [],
   "source": [
    "atxac_df['TimeSinceIntake'] = atxac_df['TimeSinceIntake'].dt.days.astype(float)"
   ]
  },
  {
   "cell_type": "code",
   "execution_count": 100,
   "id": "closing-weather",
   "metadata": {},
   "outputs": [
    {
     "data": {
      "text/plain": [
       "0     5.0\n",
       "1     0.0\n",
       "2     0.0\n",
       "3    66.0\n",
       "4     4.0\n",
       "Name: TimeSinceIntake, dtype: float64"
      ]
     },
     "execution_count": 100,
     "metadata": {},
     "output_type": "execute_result"
    }
   ],
   "source": [
    "atxac_df['TimeSinceIntake'].head()"
   ]
  },
  {
   "cell_type": "code",
   "execution_count": 33,
   "id": "hired-greeting",
   "metadata": {},
   "outputs": [],
   "source": [
    "coltransf = make_column_transformer((StandardScaler(),num_features),(OneHotEncoder(handle_unknown='ignore'),cate_features),remainder='passthrough')"
   ]
  },
  {
   "cell_type": "code",
   "execution_count": 51,
   "id": "voluntary-tribute",
   "metadata": {},
   "outputs": [
    {
     "ename": "KeyError",
     "evalue": "('AgeYrs', 'TimeSinceIntake')",
     "output_type": "error",
     "traceback": [
      "\u001b[0;31m---------------------------------------------------------------------------\u001b[0m",
      "\u001b[0;31mKeyError\u001b[0m                                  Traceback (most recent call last)",
      "\u001b[0;32m~/anaconda3/lib/python3.7/site-packages/pandas/core/indexes/base.py\u001b[0m in \u001b[0;36mget_loc\u001b[0;34m(self, key, method, tolerance)\u001b[0m\n\u001b[1;32m   3079\u001b[0m             \u001b[0;32mtry\u001b[0m\u001b[0;34m:\u001b[0m\u001b[0;34m\u001b[0m\u001b[0;34m\u001b[0m\u001b[0m\n\u001b[0;32m-> 3080\u001b[0;31m                 \u001b[0;32mreturn\u001b[0m \u001b[0mself\u001b[0m\u001b[0;34m.\u001b[0m\u001b[0m_engine\u001b[0m\u001b[0;34m.\u001b[0m\u001b[0mget_loc\u001b[0m\u001b[0;34m(\u001b[0m\u001b[0mcasted_key\u001b[0m\u001b[0;34m)\u001b[0m\u001b[0;34m\u001b[0m\u001b[0;34m\u001b[0m\u001b[0m\n\u001b[0m\u001b[1;32m   3081\u001b[0m             \u001b[0;32mexcept\u001b[0m \u001b[0mKeyError\u001b[0m \u001b[0;32mas\u001b[0m \u001b[0merr\u001b[0m\u001b[0;34m:\u001b[0m\u001b[0;34m\u001b[0m\u001b[0;34m\u001b[0m\u001b[0m\n",
      "\u001b[0;32mpandas/_libs/index.pyx\u001b[0m in \u001b[0;36mpandas._libs.index.IndexEngine.get_loc\u001b[0;34m()\u001b[0m\n",
      "\u001b[0;32mpandas/_libs/index.pyx\u001b[0m in \u001b[0;36mpandas._libs.index.IndexEngine.get_loc\u001b[0;34m()\u001b[0m\n",
      "\u001b[0;32mpandas/_libs/hashtable_class_helper.pxi\u001b[0m in \u001b[0;36mpandas._libs.hashtable.PyObjectHashTable.get_item\u001b[0;34m()\u001b[0m\n",
      "\u001b[0;32mpandas/_libs/hashtable_class_helper.pxi\u001b[0m in \u001b[0;36mpandas._libs.hashtable.PyObjectHashTable.get_item\u001b[0;34m()\u001b[0m\n",
      "\u001b[0;31mKeyError\u001b[0m: ('AgeYrs', 'TimeSinceIntake')",
      "\nThe above exception was the direct cause of the following exception:\n",
      "\u001b[0;31mKeyError\u001b[0m                                  Traceback (most recent call last)",
      "\u001b[0;32m<ipython-input-51-e017697ba02a>\u001b[0m in \u001b[0;36m<module>\u001b[0;34m\u001b[0m\n\u001b[1;32m      1\u001b[0m \u001b[0mstdsc\u001b[0m \u001b[0;34m=\u001b[0m \u001b[0mStandardScaler\u001b[0m\u001b[0;34m(\u001b[0m\u001b[0;34m)\u001b[0m\u001b[0;34m\u001b[0m\u001b[0;34m\u001b[0m\u001b[0m\n\u001b[0;32m----> 2\u001b[0;31m \u001b[0mstdsc\u001b[0m\u001b[0;34m.\u001b[0m\u001b[0mfit\u001b[0m\u001b[0;34m(\u001b[0m\u001b[0mX_train_val\u001b[0m\u001b[0;34m[\u001b[0m\u001b[0;34m'AgeYrs'\u001b[0m\u001b[0;34m,\u001b[0m\u001b[0;34m'TimeSinceIntake'\u001b[0m\u001b[0;34m]\u001b[0m\u001b[0;34m)\u001b[0m\u001b[0;34m\u001b[0m\u001b[0;34m\u001b[0m\u001b[0m\n\u001b[0m",
      "\u001b[0;32m~/anaconda3/lib/python3.7/site-packages/pandas/core/frame.py\u001b[0m in \u001b[0;36m__getitem__\u001b[0;34m(self, key)\u001b[0m\n\u001b[1;32m   3022\u001b[0m             \u001b[0;32mif\u001b[0m \u001b[0mself\u001b[0m\u001b[0;34m.\u001b[0m\u001b[0mcolumns\u001b[0m\u001b[0;34m.\u001b[0m\u001b[0mnlevels\u001b[0m \u001b[0;34m>\u001b[0m \u001b[0;36m1\u001b[0m\u001b[0;34m:\u001b[0m\u001b[0;34m\u001b[0m\u001b[0;34m\u001b[0m\u001b[0m\n\u001b[1;32m   3023\u001b[0m                 \u001b[0;32mreturn\u001b[0m \u001b[0mself\u001b[0m\u001b[0;34m.\u001b[0m\u001b[0m_getitem_multilevel\u001b[0m\u001b[0;34m(\u001b[0m\u001b[0mkey\u001b[0m\u001b[0;34m)\u001b[0m\u001b[0;34m\u001b[0m\u001b[0;34m\u001b[0m\u001b[0m\n\u001b[0;32m-> 3024\u001b[0;31m             \u001b[0mindexer\u001b[0m \u001b[0;34m=\u001b[0m \u001b[0mself\u001b[0m\u001b[0;34m.\u001b[0m\u001b[0mcolumns\u001b[0m\u001b[0;34m.\u001b[0m\u001b[0mget_loc\u001b[0m\u001b[0;34m(\u001b[0m\u001b[0mkey\u001b[0m\u001b[0;34m)\u001b[0m\u001b[0;34m\u001b[0m\u001b[0;34m\u001b[0m\u001b[0m\n\u001b[0m\u001b[1;32m   3025\u001b[0m             \u001b[0;32mif\u001b[0m \u001b[0mis_integer\u001b[0m\u001b[0;34m(\u001b[0m\u001b[0mindexer\u001b[0m\u001b[0;34m)\u001b[0m\u001b[0;34m:\u001b[0m\u001b[0;34m\u001b[0m\u001b[0;34m\u001b[0m\u001b[0m\n\u001b[1;32m   3026\u001b[0m                 \u001b[0mindexer\u001b[0m \u001b[0;34m=\u001b[0m \u001b[0;34m[\u001b[0m\u001b[0mindexer\u001b[0m\u001b[0;34m]\u001b[0m\u001b[0;34m\u001b[0m\u001b[0;34m\u001b[0m\u001b[0m\n",
      "\u001b[0;32m~/anaconda3/lib/python3.7/site-packages/pandas/core/indexes/base.py\u001b[0m in \u001b[0;36mget_loc\u001b[0;34m(self, key, method, tolerance)\u001b[0m\n\u001b[1;32m   3080\u001b[0m                 \u001b[0;32mreturn\u001b[0m \u001b[0mself\u001b[0m\u001b[0;34m.\u001b[0m\u001b[0m_engine\u001b[0m\u001b[0;34m.\u001b[0m\u001b[0mget_loc\u001b[0m\u001b[0;34m(\u001b[0m\u001b[0mcasted_key\u001b[0m\u001b[0;34m)\u001b[0m\u001b[0;34m\u001b[0m\u001b[0;34m\u001b[0m\u001b[0m\n\u001b[1;32m   3081\u001b[0m             \u001b[0;32mexcept\u001b[0m \u001b[0mKeyError\u001b[0m \u001b[0;32mas\u001b[0m \u001b[0merr\u001b[0m\u001b[0;34m:\u001b[0m\u001b[0;34m\u001b[0m\u001b[0;34m\u001b[0m\u001b[0m\n\u001b[0;32m-> 3082\u001b[0;31m                 \u001b[0;32mraise\u001b[0m \u001b[0mKeyError\u001b[0m\u001b[0;34m(\u001b[0m\u001b[0mkey\u001b[0m\u001b[0;34m)\u001b[0m \u001b[0;32mfrom\u001b[0m \u001b[0merr\u001b[0m\u001b[0;34m\u001b[0m\u001b[0;34m\u001b[0m\u001b[0m\n\u001b[0m\u001b[1;32m   3083\u001b[0m \u001b[0;34m\u001b[0m\u001b[0m\n\u001b[1;32m   3084\u001b[0m         \u001b[0;32mif\u001b[0m \u001b[0mtolerance\u001b[0m \u001b[0;32mis\u001b[0m \u001b[0;32mnot\u001b[0m \u001b[0;32mNone\u001b[0m\u001b[0;34m:\u001b[0m\u001b[0;34m\u001b[0m\u001b[0;34m\u001b[0m\u001b[0m\n",
      "\u001b[0;31mKeyError\u001b[0m: ('AgeYrs', 'TimeSinceIntake')"
     ]
    }
   ],
   "source": [
    "stdsc = StandardScaler()\n",
    "stdsc.fit(X_train_val['AgeYrs','TimeSinceIntake'])"
   ]
  },
  {
   "cell_type": "code",
   "execution_count": 56,
   "id": "broadband-payday",
   "metadata": {},
   "outputs": [
    {
     "data": {
      "text/html": [
       "<div>\n",
       "<style scoped>\n",
       "    .dataframe tbody tr th:only-of-type {\n",
       "        vertical-align: middle;\n",
       "    }\n",
       "\n",
       "    .dataframe tbody tr th {\n",
       "        vertical-align: top;\n",
       "    }\n",
       "\n",
       "    .dataframe thead th {\n",
       "        text-align: right;\n",
       "    }\n",
       "</style>\n",
       "<table border=\"1\" class=\"dataframe\">\n",
       "  <thead>\n",
       "    <tr style=\"text-align: right;\">\n",
       "      <th></th>\n",
       "      <th>AgeYrs</th>\n",
       "      <th>TimeSinceIntake</th>\n",
       "    </tr>\n",
       "  </thead>\n",
       "  <tbody>\n",
       "    <tr>\n",
       "      <th>14594</th>\n",
       "      <td>0.019231</td>\n",
       "      <td>0.0</td>\n",
       "    </tr>\n",
       "    <tr>\n",
       "      <th>20820</th>\n",
       "      <td>0.083333</td>\n",
       "      <td>4.0</td>\n",
       "    </tr>\n",
       "    <tr>\n",
       "      <th>1106</th>\n",
       "      <td>0.019231</td>\n",
       "      <td>0.0</td>\n",
       "    </tr>\n",
       "    <tr>\n",
       "      <th>16331</th>\n",
       "      <td>0.166667</td>\n",
       "      <td>42.0</td>\n",
       "    </tr>\n",
       "    <tr>\n",
       "      <th>3122</th>\n",
       "      <td>0.038462</td>\n",
       "      <td>0.0</td>\n",
       "    </tr>\n",
       "    <tr>\n",
       "      <th>...</th>\n",
       "      <td>...</td>\n",
       "      <td>...</td>\n",
       "    </tr>\n",
       "    <tr>\n",
       "      <th>21259</th>\n",
       "      <td>0.083333</td>\n",
       "      <td>1.0</td>\n",
       "    </tr>\n",
       "    <tr>\n",
       "      <th>28813</th>\n",
       "      <td>0.083333</td>\n",
       "      <td>28.0</td>\n",
       "    </tr>\n",
       "    <tr>\n",
       "      <th>7953</th>\n",
       "      <td>2.000000</td>\n",
       "      <td>6.0</td>\n",
       "    </tr>\n",
       "    <tr>\n",
       "      <th>37167</th>\n",
       "      <td>0.019231</td>\n",
       "      <td>0.0</td>\n",
       "    </tr>\n",
       "    <tr>\n",
       "      <th>37366</th>\n",
       "      <td>0.833333</td>\n",
       "      <td>30.0</td>\n",
       "    </tr>\n",
       "  </tbody>\n",
       "</table>\n",
       "<p>33672 rows × 2 columns</p>\n",
       "</div>"
      ],
      "text/plain": [
       "         AgeYrs  TimeSinceIntake\n",
       "14594  0.019231              0.0\n",
       "20820  0.083333              4.0\n",
       "1106   0.019231              0.0\n",
       "16331  0.166667             42.0\n",
       "3122   0.038462              0.0\n",
       "...         ...              ...\n",
       "21259  0.083333              1.0\n",
       "28813  0.083333             28.0\n",
       "7953   2.000000              6.0\n",
       "37167  0.019231              0.0\n",
       "37366  0.833333             30.0\n",
       "\n",
       "[33672 rows x 2 columns]"
      ]
     },
     "execution_count": 56,
     "metadata": {},
     "output_type": "execute_result"
    }
   ],
   "source": [
    "X_train_val[num_features]"
   ]
  },
  {
   "cell_type": "code",
   "execution_count": 108,
   "id": "equipped-seminar",
   "metadata": {},
   "outputs": [],
   "source": [
    "knn = KNeighborsClassifier()\n",
    "logreg = LogisticRegression(max_iter=10000000)\n",
    "bernnb = BernoulliNB()\n",
    "dtree = DecisionTreeClassifier()"
   ]
  },
  {
   "cell_type": "code",
   "execution_count": 109,
   "id": "south-austin",
   "metadata": {},
   "outputs": [],
   "source": [
    "pipe1 = make_pipeline(coltransf, knn)\n",
    "pipe2 = make_pipeline(coltransf, logreg)\n",
    "pipe3 = make_pipeline(coltransf, bernnb)\n",
    "pipe4 = make_pipeline(coltransf, dtree)"
   ]
  },
  {
   "cell_type": "code",
   "execution_count": 95,
   "id": "given-noise",
   "metadata": {},
   "outputs": [],
   "source": [
    "y_pred1 = cross_val_predict(pipe1, X_train_val[combined], y_train_val)"
   ]
  },
  {
   "cell_type": "code",
   "execution_count": 47,
   "id": "composed-terror",
   "metadata": {},
   "outputs": [
    {
     "name": "stderr",
     "output_type": "stream",
     "text": [
      "/Users/chuckcao/anaconda3/lib/python3.7/site-packages/sklearn/linear_model/_logistic.py:764: ConvergenceWarning: lbfgs failed to converge (status=1):\n",
      "STOP: TOTAL NO. of ITERATIONS REACHED LIMIT.\n",
      "\n",
      "Increase the number of iterations (max_iter) or scale the data as shown in:\n",
      "    https://scikit-learn.org/stable/modules/preprocessing.html\n",
      "Please also refer to the documentation for alternative solver options:\n",
      "    https://scikit-learn.org/stable/modules/linear_model.html#logistic-regression\n",
      "  extra_warning_msg=_LOGISTIC_SOLVER_CONVERGENCE_MSG)\n",
      "/Users/chuckcao/anaconda3/lib/python3.7/site-packages/sklearn/linear_model/_logistic.py:764: ConvergenceWarning: lbfgs failed to converge (status=1):\n",
      "STOP: TOTAL NO. of ITERATIONS REACHED LIMIT.\n",
      "\n",
      "Increase the number of iterations (max_iter) or scale the data as shown in:\n",
      "    https://scikit-learn.org/stable/modules/preprocessing.html\n",
      "Please also refer to the documentation for alternative solver options:\n",
      "    https://scikit-learn.org/stable/modules/linear_model.html#logistic-regression\n",
      "  extra_warning_msg=_LOGISTIC_SOLVER_CONVERGENCE_MSG)\n",
      "/Users/chuckcao/anaconda3/lib/python3.7/site-packages/sklearn/linear_model/_logistic.py:764: ConvergenceWarning: lbfgs failed to converge (status=1):\n",
      "STOP: TOTAL NO. of ITERATIONS REACHED LIMIT.\n",
      "\n",
      "Increase the number of iterations (max_iter) or scale the data as shown in:\n",
      "    https://scikit-learn.org/stable/modules/preprocessing.html\n",
      "Please also refer to the documentation for alternative solver options:\n",
      "    https://scikit-learn.org/stable/modules/linear_model.html#logistic-regression\n",
      "  extra_warning_msg=_LOGISTIC_SOLVER_CONVERGENCE_MSG)\n",
      "/Users/chuckcao/anaconda3/lib/python3.7/site-packages/sklearn/linear_model/_logistic.py:764: ConvergenceWarning: lbfgs failed to converge (status=1):\n",
      "STOP: TOTAL NO. of ITERATIONS REACHED LIMIT.\n",
      "\n",
      "Increase the number of iterations (max_iter) or scale the data as shown in:\n",
      "    https://scikit-learn.org/stable/modules/preprocessing.html\n",
      "Please also refer to the documentation for alternative solver options:\n",
      "    https://scikit-learn.org/stable/modules/linear_model.html#logistic-regression\n",
      "  extra_warning_msg=_LOGISTIC_SOLVER_CONVERGENCE_MSG)\n",
      "/Users/chuckcao/anaconda3/lib/python3.7/site-packages/sklearn/linear_model/_logistic.py:764: ConvergenceWarning: lbfgs failed to converge (status=1):\n",
      "STOP: TOTAL NO. of ITERATIONS REACHED LIMIT.\n",
      "\n",
      "Increase the number of iterations (max_iter) or scale the data as shown in:\n",
      "    https://scikit-learn.org/stable/modules/preprocessing.html\n",
      "Please also refer to the documentation for alternative solver options:\n",
      "    https://scikit-learn.org/stable/modules/linear_model.html#logistic-regression\n",
      "  extra_warning_msg=_LOGISTIC_SOLVER_CONVERGENCE_MSG)\n"
     ]
    }
   ],
   "source": [
    "y_pred2 = cross_val_predict(pipe2, X_train_val, y_train_val)"
   ]
  },
  {
   "cell_type": "code",
   "execution_count": 97,
   "id": "regular-disabled",
   "metadata": {},
   "outputs": [],
   "source": [
    "y_pred3 = cross_val_predict(pipe3, X_train_val[cate_features], y_train_val)"
   ]
  },
  {
   "cell_type": "code",
   "execution_count": 110,
   "id": "portable-boundary",
   "metadata": {},
   "outputs": [],
   "source": [
    "y_pred4 = cross_val_predict(pipe4, X_train_val[combined], y_train_val)"
   ]
  },
  {
   "cell_type": "code",
   "execution_count": 59,
   "id": "charming-transparency",
   "metadata": {},
   "outputs": [],
   "source": [
    "lrcv = LogisticRegressionCV(max_iter=10000000,random_state=0)"
   ]
  },
  {
   "cell_type": "code",
   "execution_count": 58,
   "id": "revolutionary-spyware",
   "metadata": {},
   "outputs": [],
   "source": [
    "X_trtr = coltransf.fit_transform(X_train_val[combined])"
   ]
  },
  {
   "cell_type": "code",
   "execution_count": 60,
   "id": "talented-partition",
   "metadata": {},
   "outputs": [
    {
     "data": {
      "text/plain": [
       "LogisticRegressionCV(max_iter=10000000, random_state=0)"
      ]
     },
     "execution_count": 60,
     "metadata": {},
     "output_type": "execute_result"
    }
   ],
   "source": [
    "lrcv.fit(X_trtr,y_train_val)"
   ]
  },
  {
   "cell_type": "code",
   "execution_count": 62,
   "id": "organic-honduras",
   "metadata": {},
   "outputs": [
    {
     "data": {
      "text/plain": [
       "array([[-4.93931694e-01, -4.30502481e-01,  9.28196764e-01,\n",
       "         8.56293393e-01, -8.52530804e-01,  3.87473878e-01,\n",
       "         4.68819515e-01, -8.99321997e-01, -8.81405572e-01,\n",
       "         9.28196764e-01, -5.99155199e-03,  3.05882763e-04,\n",
       "        -1.37266792e-03, -3.36060760e-03, -1.00031392e-03,\n",
       "        -1.87847498e-02,  6.47341776e-02, -1.62536181e-03,\n",
       "         9.18738387e-03,  3.59639877e-03, -3.19998496e-03,\n",
       "        -2.01753414e-02, -9.12080257e-03,  2.17594158e-03,\n",
       "        -1.83427264e-03, -8.62997443e-03, -4.11739357e-03,\n",
       "        -3.60379689e-03, -4.84676751e-03, -7.70587206e-03,\n",
       "        -2.66106450e-08,  1.70965877e-03,  2.77672272e-04,\n",
       "         3.35180923e-03,  4.86686849e-03,  5.06343311e-04,\n",
       "        -1.92849733e-03, -7.98979031e-02, -4.89741242e-02,\n",
       "         1.43046694e-04, -4.27999880e-03,  1.35714999e-03,\n",
       "         5.62017979e-03, -3.31824248e-02,  6.36509421e-02,\n",
       "         3.59598530e-03,  5.30217042e-02,  2.02454709e-01,\n",
       "        -7.65623993e-04,  9.70246601e-05,  5.51093567e-03,\n",
       "         3.72436025e-04, -6.82588784e-03, -9.47164141e-04,\n",
       "         8.60752257e-04,  7.78093569e-03,  1.06091102e-02,\n",
       "        -4.26268471e-03, -7.74641828e-04, -2.21807831e-03,\n",
       "         9.14143955e-03, -2.57803143e-03, -1.30348401e-03,\n",
       "        -4.65276097e-03, -8.82222653e-03, -1.15203690e-02,\n",
       "         1.08314354e-02, -2.79384065e-02, -3.76758726e-03,\n",
       "        -4.92382345e-05, -1.38021725e-03,  5.20875651e-03,\n",
       "        -6.55867000e-03, -8.03471621e-03, -3.52743288e-03,\n",
       "         4.50468898e-05,  9.24167888e-04, -2.26723826e-02,\n",
       "        -2.22607336e-02, -3.57625941e-03, -3.39151123e-03,\n",
       "        -6.83185570e-03,  2.60356710e-03,  5.11278386e-03,\n",
       "         3.83504331e-03,  6.79324023e-03, -4.48922056e-03,\n",
       "        -2.38210547e-03, -7.15692193e-02, -6.09591459e-03,\n",
       "         1.04625130e-02, -1.80543015e-03, -2.89256808e-03,\n",
       "        -2.51662247e-03,  2.90173873e-03,  4.84431212e-04,\n",
       "         3.55744384e-03,  2.80148045e-03, -7.59100734e-04,\n",
       "         1.26425463e-02, -8.56751432e-03, -2.13782541e-03,\n",
       "        -1.13817311e-03,  3.33918063e-04,  3.36050552e-03,\n",
       "        -1.78114765e-03,  5.79001493e-04,  1.71385338e-01,\n",
       "         2.30851227e-03, -5.15343710e-02,  1.45098185e-04,\n",
       "         4.20669637e-04,  4.73539121e-03,  7.52336569e-03,\n",
       "         3.23838073e-03,  1.96543722e-04,  3.58894165e-03,\n",
       "         1.74589342e-04, -2.19792887e-03,  1.99010752e-04,\n",
       "         2.33744824e-02,  3.78965817e-03,  5.05017360e-04,\n",
       "         2.87116688e-03,  6.59630484e-03, -2.43646108e-03,\n",
       "         5.97220564e-04, -1.74782564e-03,  1.27319865e-03,\n",
       "         1.42155681e-03,  2.99704294e-03, -8.35700314e-03,\n",
       "         3.29597293e-04,  9.96796378e-04,  7.98455192e-02,\n",
       "        -1.31353790e-02,  3.73183270e-03,  5.51691774e-04,\n",
       "        -3.80422549e-03,  6.37669174e-03,  3.60537284e-02,\n",
       "        -3.51724867e-03,  9.83493655e-03, -4.48047766e-03,\n",
       "        -1.51544808e-04, -1.21995794e-04, -5.51169266e-02,\n",
       "         1.43844956e-04, -2.02535003e-03, -1.08177745e-03,\n",
       "         4.50529128e-04, -8.36746653e-03,  4.19042191e-03,\n",
       "        -8.48162994e-04,  3.13033341e-03, -1.15155602e-01,\n",
       "         6.72328641e-04,  6.75291107e-04, -2.15749954e-03,\n",
       "         2.60138009e-03,  9.41437874e-04, -2.56406738e-03,\n",
       "        -9.10740339e-03,  2.13626574e-02,  5.02375987e-04,\n",
       "         5.31436499e-03,  2.39699372e-04,  4.63728820e-02,\n",
       "         3.12790398e-02, -4.60626250e-04,  2.13986810e-03,\n",
       "         2.19616543e-04, -3.60621328e-03,  1.26708026e-03,\n",
       "         4.61113750e-04,  3.47542006e-03,  2.51642744e-04,\n",
       "        -5.58902392e-03, -4.82810719e-03, -5.81207089e-03,\n",
       "        -7.49811033e-04, -6.31338275e-03,  4.82169298e-04,\n",
       "        -1.37007850e-02,  3.92120859e-04,  3.48981609e-04,\n",
       "         7.77860259e-04,  2.12372151e-04, -2.95137890e-03,\n",
       "         7.06684425e-03,  6.84602282e-03, -1.18869855e-03,\n",
       "        -7.26216203e-02,  9.74117152e-03,  3.40161958e-04,\n",
       "        -6.39823262e-03,  6.83002509e-04, -2.32806393e-03,\n",
       "         1.82726532e-03,  4.15350826e-03, -5.62747389e-04,\n",
       "         1.54448094e-04,  3.06858243e-04, -2.24262851e-03,\n",
       "        -3.58333222e-02, -1.70613043e-02, -1.96779556e-02,\n",
       "        -5.16644330e-05, -7.33985347e-03,  7.77218129e-04,\n",
       "        -6.18839639e-03,  2.93835205e-02, -4.87893559e-02,\n",
       "        -3.58903092e-04,  4.16031349e-03, -4.48691307e-03,\n",
       "         4.13171344e-02,  1.49632068e-04,  3.38989903e-03,\n",
       "        -3.01100331e-03, -1.04143510e-02, -1.69393056e-03,\n",
       "         4.79120580e-04,  1.09497792e-03, -4.43833754e-03,\n",
       "        -1.86661573e-02,  3.78251204e-03,  6.87177379e-03,\n",
       "         1.99587729e-02,  1.13202142e-03, -1.37551820e-02,\n",
       "         3.47291129e-04,  5.84493182e-04, -2.19472226e-03,\n",
       "        -2.50476450e-02,  4.05060758e-03,  2.37496707e-03,\n",
       "         1.65924694e-04,  1.09098077e-02,  6.46070150e-04,\n",
       "         1.19504609e-05, -3.44084267e-03,  2.92715297e-02,\n",
       "        -1.39314553e-02,  6.40791329e-04,  2.04546651e-04,\n",
       "         1.34820640e-03, -1.22740099e-01, -3.82640415e-03,\n",
       "         4.84811232e-03,  2.64823762e-04, -1.66767921e-03,\n",
       "         3.08949616e-03, -1.38475869e-03, -4.18028529e-03,\n",
       "        -1.50806996e-02,  1.40261662e-02,  2.24728259e-02,\n",
       "         2.15419506e-04,  4.08395367e-03, -7.05057658e-03,\n",
       "         9.42269344e-04,  9.85418398e-04,  2.47980195e-04,\n",
       "        -2.74659430e-02, -3.26538550e-03, -2.47548613e-03,\n",
       "         2.02422583e-02,  6.42875283e-04,  5.28678958e-04,\n",
       "        -6.07739648e-03,  1.14243245e-03,  3.67295201e-04,\n",
       "        -3.54015950e-02,  6.76392929e-04,  4.21340676e-03,\n",
       "         3.99291240e-03, -3.47157475e-03, -6.04062609e-03,\n",
       "         8.76332726e-03, -3.93248957e-03, -1.58144837e-02,\n",
       "        -3.44386214e-03, -1.47655170e-02, -4.58982856e-04,\n",
       "         4.86458253e-04,  1.56588203e-04,  5.39587826e-04,\n",
       "         2.46599970e-04,  3.04936308e-03, -3.01659495e-03,\n",
       "         1.46238199e-04, -6.59207349e-03,  5.61016591e-03,\n",
       "         9.58284549e-04, -5.56568324e-04,  6.64560305e-04,\n",
       "        -3.13670450e-02,  5.40845405e-02,  7.54625531e-03,\n",
       "        -4.44125938e-03,  5.06343311e-04,  4.25994323e-03,\n",
       "        -1.57951772e-02,  1.45839299e-02, -1.74098387e-05,\n",
       "         7.67455021e-04, -1.81901888e-02, -3.44254663e-04,\n",
       "         4.93730072e-03,  2.48399717e-04, -9.96980531e-05,\n",
       "         5.81332361e-03, -3.07828462e-03, -2.27857326e-02,\n",
       "         1.53027052e-04,  3.23703375e-04,  8.15372774e-04,\n",
       "         1.43800194e-02, -2.10822340e-04,  8.76359571e-02,\n",
       "        -2.28497856e-03,  1.88250387e-03, -2.96478261e-04,\n",
       "         2.35327990e-03, -3.18464332e-03, -3.26110436e-03,\n",
       "         2.01033094e-02,  9.07038525e-04,  6.61499885e-03,\n",
       "        -2.19092743e-03, -2.07087731e-03,  1.24787082e-03,\n",
       "        -4.94797641e-04,  4.05353005e-02, -3.16963467e-03,\n",
       "         1.16484282e-02, -9.96204343e-04, -1.13182078e-03,\n",
       "         1.77910625e-03, -7.79414015e-03,  2.03295717e-03,\n",
       "         2.89059768e-04,  1.74082526e-03,  1.72065914e-03,\n",
       "        -6.83563760e-03,  1.59905680e-03, -1.07394299e-02,\n",
       "         9.54001179e-04,  1.03635591e-04, -3.95696410e-03,\n",
       "        -9.75195948e-04,  3.00526820e-04, -4.31618629e-03,\n",
       "         1.80602449e-02, -4.55222018e-01,  5.12822393e-01,\n",
       "        -6.75818454e-02, -1.83857458e-02, -2.43425506e-03,\n",
       "         7.08658676e-02,  1.79828233e-01,  3.37916502e-03,\n",
       "        -4.74280821e-01,  9.87540381e-02, -7.87928501e-03,\n",
       "        -4.73564309e-03,  1.58651036e-01,  9.48712976e-04,\n",
       "        -2.76029617e-02,  1.37972477e-01,  1.32312683e-01,\n",
       "        -9.19522667e-02, -1.39014448e-01, -5.50930978e-02,\n",
       "         4.30806585e-02,  6.30132309e-02, -3.40290337e-02,\n",
       "        -2.11389827e-02, -4.73438317e-03,  5.58135296e-02,\n",
       "        -5.20509409e-02,  2.48715688e-01, -3.63201490e-02]])"
      ]
     },
     "execution_count": 62,
     "metadata": {},
     "output_type": "execute_result"
    }
   ],
   "source": [
    "lrcv.coef_"
   ]
  },
  {
   "cell_type": "code",
   "execution_count": 67,
   "id": "million-artwork",
   "metadata": {},
   "outputs": [],
   "source": [
    "y_pred5 = lrcv.predict(X_trtr)"
   ]
  },
  {
   "cell_type": "code",
   "execution_count": 68,
   "id": "burning-shock",
   "metadata": {},
   "outputs": [
    {
     "name": "stdout",
     "output_type": "stream",
     "text": [
      "LogRegCV confusion matrix: \n",
      "\n",
      " [[13150  1494]\n",
      " [ 3110 15918]]\n"
     ]
    }
   ],
   "source": [
    "print(\"LogRegCV confusion matrix: \\n\\n\", metrics.confusion_matrix(y_train_val, y_pred5,labels=['Adoption','Not Adopted']))"
   ]
  },
  {
   "cell_type": "code",
   "execution_count": 94,
   "id": "offshore-custody",
   "metadata": {},
   "outputs": [
    {
     "name": "stdout",
     "output_type": "stream",
     "text": [
      "kNN confusion matrix: \n",
      "\n",
      " [[13041  1603]\n",
      " [ 2600 16428]]\n"
     ]
    }
   ],
   "source": [
    "print(\"kNN confusion matrix: \\n\\n\", metrics.confusion_matrix(y_train_val, y_pred1,labels=['Adoption','Not Adopted']))"
   ]
  },
  {
   "cell_type": "code",
   "execution_count": 51,
   "id": "pleasant-broad",
   "metadata": {},
   "outputs": [
    {
     "name": "stdout",
     "output_type": "stream",
     "text": [
      "LogReg confusion matrix: \n",
      "\n",
      " [[17860  1631]\n",
      " [ 6312 15222]]\n"
     ]
    }
   ],
   "source": [
    "print(\"LogReg confusion matrix: \\n\\n\", metrics.confusion_matrix(y_train_val, y_pred2,labels=['Adoption','Not Adopted']))"
   ]
  },
  {
   "cell_type": "code",
   "execution_count": 93,
   "id": "pretty-matrix",
   "metadata": {},
   "outputs": [
    {
     "name": "stdout",
     "output_type": "stream",
     "text": [
      "BNB confusion matrix: \n",
      "\n",
      " [[13815   829]\n",
      " [ 4285 14743]]\n"
     ]
    }
   ],
   "source": [
    "print(\"BNB1 confusion matrix: \\n\\n\", metrics.confusion_matrix(y_train_val, y_pred3,labels=['Adoption','Not Adopted']))"
   ]
  },
  {
   "cell_type": "code",
   "execution_count": 98,
   "id": "boring-bibliography",
   "metadata": {},
   "outputs": [
    {
     "name": "stdout",
     "output_type": "stream",
     "text": [
      "BNB2 confusion matrix: \n",
      "\n",
      " [[13754   890]\n",
      " [ 4999 14029]]\n"
     ]
    }
   ],
   "source": [
    "print(\"BNB2 confusion matrix: \\n\\n\", metrics.confusion_matrix(y_train_val, y_pred3,labels=['Adoption','Not Adopted']))"
   ]
  },
  {
   "cell_type": "code",
   "execution_count": 111,
   "id": "answering-resolution",
   "metadata": {},
   "outputs": [
    {
     "name": "stdout",
     "output_type": "stream",
     "text": [
      "Decision Tree confusion matrix: \n",
      "\n",
      " [[12350  2294]\n",
      " [ 2247 16781]]\n"
     ]
    }
   ],
   "source": [
    "print(\"Decision Tree confusion matrix: \\n\\n\", metrics.confusion_matrix(y_train_val, y_pred4,labels=['Adoption','Not Adopted']))"
   ]
  },
  {
   "cell_type": "code",
   "execution_count": 113,
   "id": "essential-reservation",
   "metadata": {},
   "outputs": [
    {
     "ename": "NotFittedError",
     "evalue": "This DecisionTreeClassifier instance is not fitted yet. Call 'fit' with appropriate arguments before using this estimator.",
     "output_type": "error",
     "traceback": [
      "\u001b[0;31m---------------------------------------------------------------------------\u001b[0m",
      "\u001b[0;31mNotFittedError\u001b[0m                            Traceback (most recent call last)",
      "\u001b[0;32m<ipython-input-113-41f539e76fad>\u001b[0m in \u001b[0;36m<module>\u001b[0;34m\u001b[0m\n\u001b[0;32m----> 1\u001b[0;31m \u001b[0mdtree\u001b[0m\u001b[0;34m.\u001b[0m\u001b[0mfeature_importances_\u001b[0m\u001b[0;34m\u001b[0m\u001b[0;34m\u001b[0m\u001b[0m\n\u001b[0m",
      "\u001b[0;32m~/anaconda3/lib/python3.7/site-packages/sklearn/tree/_classes.py\u001b[0m in \u001b[0;36mfeature_importances_\u001b[0;34m(self)\u001b[0m\n\u001b[1;32m    586\u001b[0m             \u001b[0;34m(\u001b[0m\u001b[0mGini\u001b[0m \u001b[0mimportance\u001b[0m\u001b[0;34m)\u001b[0m\u001b[0;34m.\u001b[0m\u001b[0;34m\u001b[0m\u001b[0;34m\u001b[0m\u001b[0m\n\u001b[1;32m    587\u001b[0m         \"\"\"\n\u001b[0;32m--> 588\u001b[0;31m         \u001b[0mcheck_is_fitted\u001b[0m\u001b[0;34m(\u001b[0m\u001b[0mself\u001b[0m\u001b[0;34m)\u001b[0m\u001b[0;34m\u001b[0m\u001b[0;34m\u001b[0m\u001b[0m\n\u001b[0m\u001b[1;32m    589\u001b[0m \u001b[0;34m\u001b[0m\u001b[0m\n\u001b[1;32m    590\u001b[0m         \u001b[0;32mreturn\u001b[0m \u001b[0mself\u001b[0m\u001b[0;34m.\u001b[0m\u001b[0mtree_\u001b[0m\u001b[0;34m.\u001b[0m\u001b[0mcompute_feature_importances\u001b[0m\u001b[0;34m(\u001b[0m\u001b[0;34m)\u001b[0m\u001b[0;34m\u001b[0m\u001b[0;34m\u001b[0m\u001b[0m\n",
      "\u001b[0;32m~/anaconda3/lib/python3.7/site-packages/sklearn/utils/validation.py\u001b[0m in \u001b[0;36minner_f\u001b[0;34m(*args, **kwargs)\u001b[0m\n\u001b[1;32m     70\u001b[0m                           FutureWarning)\n\u001b[1;32m     71\u001b[0m         \u001b[0mkwargs\u001b[0m\u001b[0;34m.\u001b[0m\u001b[0mupdate\u001b[0m\u001b[0;34m(\u001b[0m\u001b[0;34m{\u001b[0m\u001b[0mk\u001b[0m\u001b[0;34m:\u001b[0m \u001b[0marg\u001b[0m \u001b[0;32mfor\u001b[0m \u001b[0mk\u001b[0m\u001b[0;34m,\u001b[0m \u001b[0marg\u001b[0m \u001b[0;32min\u001b[0m \u001b[0mzip\u001b[0m\u001b[0;34m(\u001b[0m\u001b[0msig\u001b[0m\u001b[0;34m.\u001b[0m\u001b[0mparameters\u001b[0m\u001b[0;34m,\u001b[0m \u001b[0margs\u001b[0m\u001b[0;34m)\u001b[0m\u001b[0;34m}\u001b[0m\u001b[0;34m)\u001b[0m\u001b[0;34m\u001b[0m\u001b[0;34m\u001b[0m\u001b[0m\n\u001b[0;32m---> 72\u001b[0;31m         \u001b[0;32mreturn\u001b[0m \u001b[0mf\u001b[0m\u001b[0;34m(\u001b[0m\u001b[0;34m**\u001b[0m\u001b[0mkwargs\u001b[0m\u001b[0;34m)\u001b[0m\u001b[0;34m\u001b[0m\u001b[0;34m\u001b[0m\u001b[0m\n\u001b[0m\u001b[1;32m     73\u001b[0m     \u001b[0;32mreturn\u001b[0m \u001b[0minner_f\u001b[0m\u001b[0;34m\u001b[0m\u001b[0;34m\u001b[0m\u001b[0m\n\u001b[1;32m     74\u001b[0m \u001b[0;34m\u001b[0m\u001b[0m\n",
      "\u001b[0;32m~/anaconda3/lib/python3.7/site-packages/sklearn/utils/validation.py\u001b[0m in \u001b[0;36mcheck_is_fitted\u001b[0;34m(estimator, attributes, msg, all_or_any)\u001b[0m\n\u001b[1;32m   1017\u001b[0m \u001b[0;34m\u001b[0m\u001b[0m\n\u001b[1;32m   1018\u001b[0m     \u001b[0;32mif\u001b[0m \u001b[0;32mnot\u001b[0m \u001b[0mattrs\u001b[0m\u001b[0;34m:\u001b[0m\u001b[0;34m\u001b[0m\u001b[0;34m\u001b[0m\u001b[0m\n\u001b[0;32m-> 1019\u001b[0;31m         \u001b[0;32mraise\u001b[0m \u001b[0mNotFittedError\u001b[0m\u001b[0;34m(\u001b[0m\u001b[0mmsg\u001b[0m \u001b[0;34m%\u001b[0m \u001b[0;34m{\u001b[0m\u001b[0;34m'name'\u001b[0m\u001b[0;34m:\u001b[0m \u001b[0mtype\u001b[0m\u001b[0;34m(\u001b[0m\u001b[0mestimator\u001b[0m\u001b[0;34m)\u001b[0m\u001b[0;34m.\u001b[0m\u001b[0m__name__\u001b[0m\u001b[0;34m}\u001b[0m\u001b[0;34m)\u001b[0m\u001b[0;34m\u001b[0m\u001b[0;34m\u001b[0m\u001b[0m\n\u001b[0m\u001b[1;32m   1020\u001b[0m \u001b[0;34m\u001b[0m\u001b[0m\n\u001b[1;32m   1021\u001b[0m \u001b[0;34m\u001b[0m\u001b[0m\n",
      "\u001b[0;31mNotFittedError\u001b[0m: This DecisionTreeClassifier instance is not fitted yet. Call 'fit' with appropriate arguments before using this estimator."
     ]
    }
   ],
   "source": [
    "dtree.feature_importances_"
   ]
  },
  {
   "cell_type": "code",
   "execution_count": 114,
   "id": "improved-abortion",
   "metadata": {},
   "outputs": [
    {
     "data": {
      "text/plain": [
       "(33672, 384)"
      ]
     },
     "execution_count": 114,
     "metadata": {},
     "output_type": "execute_result"
    }
   ],
   "source": [
    "X_trtr.shape"
   ]
  },
  {
   "cell_type": "code",
   "execution_count": 126,
   "id": "broke-prevention",
   "metadata": {},
   "outputs": [],
   "source": [
    "sfs1 = SequentialFeatureSelector(pipe3,scoring='average_precision')"
   ]
  },
  {
   "cell_type": "code",
   "execution_count": 127,
   "id": "portuguese-turtle",
   "metadata": {},
   "outputs": [
    {
     "name": "stderr",
     "output_type": "stream",
     "text": [
      "/Users/chuckcao/anaconda3/lib/python3.7/site-packages/sklearn/model_selection/_validation.py:552: FitFailedWarning: Estimator fit failed. The score on this train-test partition for these parameters will be set to nan. Details: \n",
      "Traceback (most recent call last):\n",
      "  File \"/Users/chuckcao/anaconda3/lib/python3.7/site-packages/sklearn/utils/__init__.py\", line 425, in _get_column_indices\n",
      "    ----------\n",
      "AttributeError: 'numpy.ndarray' object has no attribute 'columns'\n",
      "\n",
      "During handling of the above exception, another exception occurred:\n",
      "\n",
      "Traceback (most recent call last):\n",
      "  File \"/Users/chuckcao/anaconda3/lib/python3.7/site-packages/sklearn/model_selection/_validation.py\", line 531, in _fit_and_score\n",
      "    Number of test samples.\n",
      "  File \"/Users/chuckcao/anaconda3/lib/python3.7/site-packages/sklearn/pipeline.py\", line 330, in fit\n",
      "    **fit_params : dict of string -> object\n",
      "  File \"/Users/chuckcao/anaconda3/lib/python3.7/site-packages/sklearn/pipeline.py\", line 296, in _fit\n",
      "    # preserve backward compatibility\n",
      "  File \"/Users/chuckcao/anaconda3/lib/python3.7/site-packages/joblib/memory.py\", line 352, in __call__\n",
      "    return self.func(*args, **kwargs)\n",
      "  File \"/Users/chuckcao/anaconda3/lib/python3.7/site-packages/sklearn/pipeline.py\", line 740, in _fit_transform_one\n",
      "    def _fit_transform_one(transformer,\n",
      "  File \"/Users/chuckcao/anaconda3/lib/python3.7/site-packages/sklearn/compose/_column_transformer.py\", line 529, in fit_transform\n",
      "  File \"/Users/chuckcao/anaconda3/lib/python3.7/site-packages/sklearn/compose/_column_transformer.py\", line 327, in _validate_remainder\n",
      "    self._df_columns = X.columns\n",
      "  File \"/Users/chuckcao/anaconda3/lib/python3.7/site-packages/sklearn/utils/__init__.py\", line 427, in _get_column_indices\n",
      "    (n_samples, n_outputs)\n",
      "ValueError: Specifying the columns using strings is only supported for pandas DataFrames\n",
      "\n",
      "  if split_progress is not None:\n",
      "/Users/chuckcao/anaconda3/lib/python3.7/site-packages/sklearn/model_selection/_validation.py:552: FitFailedWarning: Estimator fit failed. The score on this train-test partition for these parameters will be set to nan. Details: \n",
      "Traceback (most recent call last):\n",
      "  File \"/Users/chuckcao/anaconda3/lib/python3.7/site-packages/sklearn/utils/__init__.py\", line 425, in _get_column_indices\n",
      "    ----------\n",
      "AttributeError: 'numpy.ndarray' object has no attribute 'columns'\n",
      "\n",
      "During handling of the above exception, another exception occurred:\n",
      "\n",
      "Traceback (most recent call last):\n",
      "  File \"/Users/chuckcao/anaconda3/lib/python3.7/site-packages/sklearn/model_selection/_validation.py\", line 531, in _fit_and_score\n",
      "    Number of test samples.\n",
      "  File \"/Users/chuckcao/anaconda3/lib/python3.7/site-packages/sklearn/pipeline.py\", line 330, in fit\n",
      "    **fit_params : dict of string -> object\n",
      "  File \"/Users/chuckcao/anaconda3/lib/python3.7/site-packages/sklearn/pipeline.py\", line 296, in _fit\n",
      "    # preserve backward compatibility\n",
      "  File \"/Users/chuckcao/anaconda3/lib/python3.7/site-packages/joblib/memory.py\", line 352, in __call__\n",
      "    return self.func(*args, **kwargs)\n",
      "  File \"/Users/chuckcao/anaconda3/lib/python3.7/site-packages/sklearn/pipeline.py\", line 740, in _fit_transform_one\n",
      "    def _fit_transform_one(transformer,\n",
      "  File \"/Users/chuckcao/anaconda3/lib/python3.7/site-packages/sklearn/compose/_column_transformer.py\", line 529, in fit_transform\n",
      "  File \"/Users/chuckcao/anaconda3/lib/python3.7/site-packages/sklearn/compose/_column_transformer.py\", line 327, in _validate_remainder\n",
      "    self._df_columns = X.columns\n",
      "  File \"/Users/chuckcao/anaconda3/lib/python3.7/site-packages/sklearn/utils/__init__.py\", line 427, in _get_column_indices\n",
      "    (n_samples, n_outputs)\n",
      "ValueError: Specifying the columns using strings is only supported for pandas DataFrames\n",
      "\n",
      "  if split_progress is not None:\n",
      "/Users/chuckcao/anaconda3/lib/python3.7/site-packages/sklearn/model_selection/_validation.py:552: FitFailedWarning: Estimator fit failed. The score on this train-test partition for these parameters will be set to nan. Details: \n",
      "Traceback (most recent call last):\n",
      "  File \"/Users/chuckcao/anaconda3/lib/python3.7/site-packages/sklearn/utils/__init__.py\", line 425, in _get_column_indices\n",
      "    ----------\n",
      "AttributeError: 'numpy.ndarray' object has no attribute 'columns'\n",
      "\n",
      "During handling of the above exception, another exception occurred:\n",
      "\n",
      "Traceback (most recent call last):\n",
      "  File \"/Users/chuckcao/anaconda3/lib/python3.7/site-packages/sklearn/model_selection/_validation.py\", line 531, in _fit_and_score\n",
      "    Number of test samples.\n",
      "  File \"/Users/chuckcao/anaconda3/lib/python3.7/site-packages/sklearn/pipeline.py\", line 330, in fit\n",
      "    **fit_params : dict of string -> object\n",
      "  File \"/Users/chuckcao/anaconda3/lib/python3.7/site-packages/sklearn/pipeline.py\", line 296, in _fit\n",
      "    # preserve backward compatibility\n",
      "  File \"/Users/chuckcao/anaconda3/lib/python3.7/site-packages/joblib/memory.py\", line 352, in __call__\n",
      "    return self.func(*args, **kwargs)\n",
      "  File \"/Users/chuckcao/anaconda3/lib/python3.7/site-packages/sklearn/pipeline.py\", line 740, in _fit_transform_one\n",
      "    def _fit_transform_one(transformer,\n",
      "  File \"/Users/chuckcao/anaconda3/lib/python3.7/site-packages/sklearn/compose/_column_transformer.py\", line 529, in fit_transform\n",
      "  File \"/Users/chuckcao/anaconda3/lib/python3.7/site-packages/sklearn/compose/_column_transformer.py\", line 327, in _validate_remainder\n",
      "    self._df_columns = X.columns\n",
      "  File \"/Users/chuckcao/anaconda3/lib/python3.7/site-packages/sklearn/utils/__init__.py\", line 427, in _get_column_indices\n",
      "    (n_samples, n_outputs)\n",
      "ValueError: Specifying the columns using strings is only supported for pandas DataFrames\n",
      "\n",
      "  if split_progress is not None:\n",
      "/Users/chuckcao/anaconda3/lib/python3.7/site-packages/sklearn/model_selection/_validation.py:552: FitFailedWarning: Estimator fit failed. The score on this train-test partition for these parameters will be set to nan. Details: \n",
      "Traceback (most recent call last):\n",
      "  File \"/Users/chuckcao/anaconda3/lib/python3.7/site-packages/sklearn/utils/__init__.py\", line 425, in _get_column_indices\n",
      "    ----------\n",
      "AttributeError: 'numpy.ndarray' object has no attribute 'columns'\n",
      "\n",
      "During handling of the above exception, another exception occurred:\n",
      "\n",
      "Traceback (most recent call last):\n",
      "  File \"/Users/chuckcao/anaconda3/lib/python3.7/site-packages/sklearn/model_selection/_validation.py\", line 531, in _fit_and_score\n",
      "    Number of test samples.\n",
      "  File \"/Users/chuckcao/anaconda3/lib/python3.7/site-packages/sklearn/pipeline.py\", line 330, in fit\n",
      "    **fit_params : dict of string -> object\n",
      "  File \"/Users/chuckcao/anaconda3/lib/python3.7/site-packages/sklearn/pipeline.py\", line 296, in _fit\n",
      "    # preserve backward compatibility\n",
      "  File \"/Users/chuckcao/anaconda3/lib/python3.7/site-packages/joblib/memory.py\", line 352, in __call__\n",
      "    return self.func(*args, **kwargs)\n",
      "  File \"/Users/chuckcao/anaconda3/lib/python3.7/site-packages/sklearn/pipeline.py\", line 740, in _fit_transform_one\n",
      "    def _fit_transform_one(transformer,\n",
      "  File \"/Users/chuckcao/anaconda3/lib/python3.7/site-packages/sklearn/compose/_column_transformer.py\", line 529, in fit_transform\n",
      "  File \"/Users/chuckcao/anaconda3/lib/python3.7/site-packages/sklearn/compose/_column_transformer.py\", line 327, in _validate_remainder\n",
      "    self._df_columns = X.columns\n",
      "  File \"/Users/chuckcao/anaconda3/lib/python3.7/site-packages/sklearn/utils/__init__.py\", line 427, in _get_column_indices\n",
      "    (n_samples, n_outputs)\n",
      "ValueError: Specifying the columns using strings is only supported for pandas DataFrames\n",
      "\n",
      "  if split_progress is not None:\n",
      "/Users/chuckcao/anaconda3/lib/python3.7/site-packages/sklearn/model_selection/_validation.py:552: FitFailedWarning: Estimator fit failed. The score on this train-test partition for these parameters will be set to nan. Details: \n",
      "Traceback (most recent call last):\n",
      "  File \"/Users/chuckcao/anaconda3/lib/python3.7/site-packages/sklearn/utils/__init__.py\", line 425, in _get_column_indices\n",
      "    ----------\n",
      "AttributeError: 'numpy.ndarray' object has no attribute 'columns'\n",
      "\n",
      "During handling of the above exception, another exception occurred:\n",
      "\n",
      "Traceback (most recent call last):\n",
      "  File \"/Users/chuckcao/anaconda3/lib/python3.7/site-packages/sklearn/model_selection/_validation.py\", line 531, in _fit_and_score\n",
      "    Number of test samples.\n",
      "  File \"/Users/chuckcao/anaconda3/lib/python3.7/site-packages/sklearn/pipeline.py\", line 330, in fit\n",
      "    **fit_params : dict of string -> object\n",
      "  File \"/Users/chuckcao/anaconda3/lib/python3.7/site-packages/sklearn/pipeline.py\", line 296, in _fit\n",
      "    # preserve backward compatibility\n",
      "  File \"/Users/chuckcao/anaconda3/lib/python3.7/site-packages/joblib/memory.py\", line 352, in __call__\n",
      "    return self.func(*args, **kwargs)\n",
      "  File \"/Users/chuckcao/anaconda3/lib/python3.7/site-packages/sklearn/pipeline.py\", line 740, in _fit_transform_one\n",
      "    def _fit_transform_one(transformer,\n",
      "  File \"/Users/chuckcao/anaconda3/lib/python3.7/site-packages/sklearn/compose/_column_transformer.py\", line 529, in fit_transform\n",
      "  File \"/Users/chuckcao/anaconda3/lib/python3.7/site-packages/sklearn/compose/_column_transformer.py\", line 327, in _validate_remainder\n",
      "    self._df_columns = X.columns\n",
      "  File \"/Users/chuckcao/anaconda3/lib/python3.7/site-packages/sklearn/utils/__init__.py\", line 427, in _get_column_indices\n",
      "    (n_samples, n_outputs)\n",
      "ValueError: Specifying the columns using strings is only supported for pandas DataFrames\n",
      "\n",
      "  if split_progress is not None:\n",
      "/Users/chuckcao/anaconda3/lib/python3.7/site-packages/sklearn/model_selection/_validation.py:552: FitFailedWarning: Estimator fit failed. The score on this train-test partition for these parameters will be set to nan. Details: \n",
      "Traceback (most recent call last):\n",
      "  File \"/Users/chuckcao/anaconda3/lib/python3.7/site-packages/sklearn/utils/__init__.py\", line 425, in _get_column_indices\n",
      "    ----------\n",
      "AttributeError: 'numpy.ndarray' object has no attribute 'columns'\n",
      "\n",
      "During handling of the above exception, another exception occurred:\n",
      "\n",
      "Traceback (most recent call last):\n",
      "  File \"/Users/chuckcao/anaconda3/lib/python3.7/site-packages/sklearn/model_selection/_validation.py\", line 531, in _fit_and_score\n",
      "    Number of test samples.\n",
      "  File \"/Users/chuckcao/anaconda3/lib/python3.7/site-packages/sklearn/pipeline.py\", line 330, in fit\n",
      "    **fit_params : dict of string -> object\n",
      "  File \"/Users/chuckcao/anaconda3/lib/python3.7/site-packages/sklearn/pipeline.py\", line 296, in _fit\n",
      "    # preserve backward compatibility\n",
      "  File \"/Users/chuckcao/anaconda3/lib/python3.7/site-packages/joblib/memory.py\", line 352, in __call__\n",
      "    return self.func(*args, **kwargs)\n",
      "  File \"/Users/chuckcao/anaconda3/lib/python3.7/site-packages/sklearn/pipeline.py\", line 740, in _fit_transform_one\n",
      "    def _fit_transform_one(transformer,\n",
      "  File \"/Users/chuckcao/anaconda3/lib/python3.7/site-packages/sklearn/compose/_column_transformer.py\", line 529, in fit_transform\n",
      "  File \"/Users/chuckcao/anaconda3/lib/python3.7/site-packages/sklearn/compose/_column_transformer.py\", line 327, in _validate_remainder\n",
      "    self._df_columns = X.columns\n",
      "  File \"/Users/chuckcao/anaconda3/lib/python3.7/site-packages/sklearn/utils/__init__.py\", line 427, in _get_column_indices\n",
      "    (n_samples, n_outputs)\n",
      "ValueError: Specifying the columns using strings is only supported for pandas DataFrames\n",
      "\n",
      "  if split_progress is not None:\n"
     ]
    },
    {
     "name": "stderr",
     "output_type": "stream",
     "text": [
      "/Users/chuckcao/anaconda3/lib/python3.7/site-packages/sklearn/model_selection/_validation.py:552: FitFailedWarning: Estimator fit failed. The score on this train-test partition for these parameters will be set to nan. Details: \n",
      "Traceback (most recent call last):\n",
      "  File \"/Users/chuckcao/anaconda3/lib/python3.7/site-packages/sklearn/utils/__init__.py\", line 425, in _get_column_indices\n",
      "    ----------\n",
      "AttributeError: 'numpy.ndarray' object has no attribute 'columns'\n",
      "\n",
      "During handling of the above exception, another exception occurred:\n",
      "\n",
      "Traceback (most recent call last):\n",
      "  File \"/Users/chuckcao/anaconda3/lib/python3.7/site-packages/sklearn/model_selection/_validation.py\", line 531, in _fit_and_score\n",
      "    Number of test samples.\n",
      "  File \"/Users/chuckcao/anaconda3/lib/python3.7/site-packages/sklearn/pipeline.py\", line 330, in fit\n",
      "    **fit_params : dict of string -> object\n",
      "  File \"/Users/chuckcao/anaconda3/lib/python3.7/site-packages/sklearn/pipeline.py\", line 296, in _fit\n",
      "    # preserve backward compatibility\n",
      "  File \"/Users/chuckcao/anaconda3/lib/python3.7/site-packages/joblib/memory.py\", line 352, in __call__\n",
      "    return self.func(*args, **kwargs)\n",
      "  File \"/Users/chuckcao/anaconda3/lib/python3.7/site-packages/sklearn/pipeline.py\", line 740, in _fit_transform_one\n",
      "    def _fit_transform_one(transformer,\n",
      "  File \"/Users/chuckcao/anaconda3/lib/python3.7/site-packages/sklearn/compose/_column_transformer.py\", line 529, in fit_transform\n",
      "  File \"/Users/chuckcao/anaconda3/lib/python3.7/site-packages/sklearn/compose/_column_transformer.py\", line 327, in _validate_remainder\n",
      "    self._df_columns = X.columns\n",
      "  File \"/Users/chuckcao/anaconda3/lib/python3.7/site-packages/sklearn/utils/__init__.py\", line 427, in _get_column_indices\n",
      "    (n_samples, n_outputs)\n",
      "ValueError: Specifying the columns using strings is only supported for pandas DataFrames\n",
      "\n",
      "  if split_progress is not None:\n",
      "/Users/chuckcao/anaconda3/lib/python3.7/site-packages/sklearn/model_selection/_validation.py:552: FitFailedWarning: Estimator fit failed. The score on this train-test partition for these parameters will be set to nan. Details: \n",
      "Traceback (most recent call last):\n",
      "  File \"/Users/chuckcao/anaconda3/lib/python3.7/site-packages/sklearn/utils/__init__.py\", line 425, in _get_column_indices\n",
      "    ----------\n",
      "AttributeError: 'numpy.ndarray' object has no attribute 'columns'\n",
      "\n",
      "During handling of the above exception, another exception occurred:\n",
      "\n",
      "Traceback (most recent call last):\n",
      "  File \"/Users/chuckcao/anaconda3/lib/python3.7/site-packages/sklearn/model_selection/_validation.py\", line 531, in _fit_and_score\n",
      "    Number of test samples.\n",
      "  File \"/Users/chuckcao/anaconda3/lib/python3.7/site-packages/sklearn/pipeline.py\", line 330, in fit\n",
      "    **fit_params : dict of string -> object\n",
      "  File \"/Users/chuckcao/anaconda3/lib/python3.7/site-packages/sklearn/pipeline.py\", line 296, in _fit\n",
      "    # preserve backward compatibility\n",
      "  File \"/Users/chuckcao/anaconda3/lib/python3.7/site-packages/joblib/memory.py\", line 352, in __call__\n",
      "    return self.func(*args, **kwargs)\n",
      "  File \"/Users/chuckcao/anaconda3/lib/python3.7/site-packages/sklearn/pipeline.py\", line 740, in _fit_transform_one\n",
      "    def _fit_transform_one(transformer,\n",
      "  File \"/Users/chuckcao/anaconda3/lib/python3.7/site-packages/sklearn/compose/_column_transformer.py\", line 529, in fit_transform\n",
      "  File \"/Users/chuckcao/anaconda3/lib/python3.7/site-packages/sklearn/compose/_column_transformer.py\", line 327, in _validate_remainder\n",
      "    self._df_columns = X.columns\n",
      "  File \"/Users/chuckcao/anaconda3/lib/python3.7/site-packages/sklearn/utils/__init__.py\", line 427, in _get_column_indices\n",
      "    (n_samples, n_outputs)\n",
      "ValueError: Specifying the columns using strings is only supported for pandas DataFrames\n",
      "\n",
      "  if split_progress is not None:\n",
      "/Users/chuckcao/anaconda3/lib/python3.7/site-packages/sklearn/model_selection/_validation.py:552: FitFailedWarning: Estimator fit failed. The score on this train-test partition for these parameters will be set to nan. Details: \n",
      "Traceback (most recent call last):\n",
      "  File \"/Users/chuckcao/anaconda3/lib/python3.7/site-packages/sklearn/utils/__init__.py\", line 425, in _get_column_indices\n",
      "    ----------\n",
      "AttributeError: 'numpy.ndarray' object has no attribute 'columns'\n",
      "\n",
      "During handling of the above exception, another exception occurred:\n",
      "\n",
      "Traceback (most recent call last):\n",
      "  File \"/Users/chuckcao/anaconda3/lib/python3.7/site-packages/sklearn/model_selection/_validation.py\", line 531, in _fit_and_score\n",
      "    Number of test samples.\n",
      "  File \"/Users/chuckcao/anaconda3/lib/python3.7/site-packages/sklearn/pipeline.py\", line 330, in fit\n",
      "    **fit_params : dict of string -> object\n",
      "  File \"/Users/chuckcao/anaconda3/lib/python3.7/site-packages/sklearn/pipeline.py\", line 296, in _fit\n",
      "    # preserve backward compatibility\n",
      "  File \"/Users/chuckcao/anaconda3/lib/python3.7/site-packages/joblib/memory.py\", line 352, in __call__\n",
      "    return self.func(*args, **kwargs)\n",
      "  File \"/Users/chuckcao/anaconda3/lib/python3.7/site-packages/sklearn/pipeline.py\", line 740, in _fit_transform_one\n",
      "    def _fit_transform_one(transformer,\n",
      "  File \"/Users/chuckcao/anaconda3/lib/python3.7/site-packages/sklearn/compose/_column_transformer.py\", line 529, in fit_transform\n",
      "  File \"/Users/chuckcao/anaconda3/lib/python3.7/site-packages/sklearn/compose/_column_transformer.py\", line 327, in _validate_remainder\n",
      "    self._df_columns = X.columns\n",
      "  File \"/Users/chuckcao/anaconda3/lib/python3.7/site-packages/sklearn/utils/__init__.py\", line 427, in _get_column_indices\n",
      "    (n_samples, n_outputs)\n",
      "ValueError: Specifying the columns using strings is only supported for pandas DataFrames\n",
      "\n",
      "  if split_progress is not None:\n",
      "/Users/chuckcao/anaconda3/lib/python3.7/site-packages/mlxtend/feature_selection/sequential_feature_selector.py:612: RuntimeWarning: Mean of empty slice\n",
      "  all_avg_scores.append(np.nanmean(cv_scores))\n"
     ]
    },
    {
     "data": {
      "text/plain": [
       "SequentialFeatureSelector(estimator=Pipeline(steps=[('columntransformer',\n",
       "                                                     ColumnTransformer(remainder='passthrough',\n",
       "                                                                       transformers=[('onehotencoder',\n",
       "                                                                                      OneHotEncoder(handle_unknown='ignore'),\n",
       "                                                                                      ['Sex',\n",
       "                                                                                       'Spayed_Neutered',\n",
       "                                                                                       'Sex_Upon_Outcome',\n",
       "                                                                                       'OutcomeBreed',\n",
       "                                                                                       'OutcomeColor',\n",
       "                                                                                       'Intake_Type',\n",
       "                                                                                       'Intake_Condition',\n",
       "                                                                                       'IntakeMonth',\n",
       "                                                                                       'No_Known_Owner'])])),\n",
       "                                                    ('bernoullinb',\n",
       "                                                     BernoulliNB())]),\n",
       "                          scoring='average_precision')"
      ]
     },
     "execution_count": 127,
     "metadata": {},
     "output_type": "execute_result"
    }
   ],
   "source": [
    "sfs1.fit(X_train_val[cate_features],y_train_val)"
   ]
  },
  {
   "cell_type": "code",
   "execution_count": null,
   "id": "minor-bundle",
   "metadata": {},
   "outputs": [],
   "source": []
  },
  {
   "cell_type": "code",
   "execution_count": null,
   "id": "dense-writer",
   "metadata": {},
   "outputs": [],
   "source": []
  }
 ],
 "metadata": {
  "kernelspec": {
   "display_name": "Python 3",
   "language": "python",
   "name": "python3"
  },
  "language_info": {
   "codemirror_mode": {
    "name": "ipython",
    "version": 3
   },
   "file_extension": ".py",
   "mimetype": "text/x-python",
   "name": "python",
   "nbconvert_exporter": "python",
   "pygments_lexer": "ipython3",
   "version": "3.7.9"
  }
 },
 "nbformat": 4,
 "nbformat_minor": 5
}
