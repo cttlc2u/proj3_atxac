{
 "cells": [
  {
   "cell_type": "code",
   "execution_count": 2,
   "id": "tested-design",
   "metadata": {},
   "outputs": [
    {
     "name": "stdout",
     "output_type": "stream",
     "text": [
      "Populating the interactive namespace from numpy and matplotlib\n"
     ]
    }
   ],
   "source": [
    "%pylab inline\n",
    "\n",
    "import pandas as pd\n",
    "import seaborn as sns\n",
    "sns.set()\n",
    "import pickle\n",
    "from sklearn.neighbors import KNeighborsClassifier , RadiusNeighborsClassifier\n",
    "from sklearn.model_selection import train_test_split , cross_val_score, StratifiedShuffleSplit\n",
    "from sklearn.preprocessing import StandardScaler, PolynomialFeatures, OneHotEncoder\n",
    "from sklearn import metrics"
   ]
  },
  {
   "cell_type": "code",
   "execution_count": 3,
   "id": "posted-catholic",
   "metadata": {},
   "outputs": [],
   "source": [
    "with open('atxac_de.pickle', 'rb') as read_aacde:\n",
    "    atxac_df = pickle.load(read_aacde)"
   ]
  },
  {
   "cell_type": "code",
   "execution_count": 43,
   "id": "handmade-calvin",
   "metadata": {},
   "outputs": [],
   "source": [
    "split = StratifiedShuffleSplit(n_splits=1, test_size=0.2, random_state=88 )\n",
    "for train_index, test_index in split.split(atxac_df, atxac_df['Updated_Outcome_Type']):\n",
    "    strat_train_set = atxac_df.loc[train_index]\n",
    "    strat_test_set = atxac_df.loc[test_index]"
   ]
  },
  {
   "cell_type": "code",
   "execution_count": 44,
   "id": "aboriginal-western",
   "metadata": {},
   "outputs": [],
   "source": [
    "X_train = strat_train_set.drop(columns=['Outcome_Type','Updated_Outcome_Type'])\n",
    "y_train = strat_train_set['Updated_Outcome_Type']\n",
    "X_test = strat_test_set.drop(columns=['Outcome_Type','Updated_Outcome_Type'])\n",
    "y_test = strat_test_set['Updated_Outcome_Type']"
   ]
  },
  {
   "cell_type": "code",
   "execution_count": 4,
   "id": "trying-ordinance",
   "metadata": {},
   "outputs": [],
   "source": [
    "X = atxac_df.drop(columns=['Outcome_Type','Updated_Outcome_Type'])\n",
    "y = atxac_df['Updated_Outcome_Type']"
   ]
  },
  {
   "cell_type": "code",
   "execution_count": 20,
   "id": "endless-rental",
   "metadata": {},
   "outputs": [],
   "source": [
    "X_train_val, X_test, y_train_val, y_test = train_test_split(X, y, test_size=.2, random_state=88,stratify=y)"
   ]
  },
  {
   "cell_type": "code",
   "execution_count": 21,
   "id": "sharing-worker",
   "metadata": {},
   "outputs": [],
   "source": [
    "X_train, X_val, y_train, y_val = train_test_split(X_train_val, y_train_val, test_size=.25, random_state=24,stratify=y_train_val)"
   ]
  },
  {
   "cell_type": "code",
   "execution_count": 38,
   "id": "contrary-indiana",
   "metadata": {},
   "outputs": [
    {
     "data": {
      "text/plain": [
       "array(['Transfer', 'Adoption', 'Transfer', ..., 'Transfer', 'Transfer',\n",
       "       'Adoption'], dtype=object)"
      ]
     },
     "execution_count": 38,
     "metadata": {},
     "output_type": "execute_result"
    }
   ],
   "source": [
    "y_pred"
   ]
  },
  {
   "cell_type": "code",
   "execution_count": 48,
   "id": "blank-andorra",
   "metadata": {},
   "outputs": [
    {
     "data": {
      "text/plain": [
       "(30768, 25)"
      ]
     },
     "execution_count": 48,
     "metadata": {},
     "output_type": "execute_result"
    }
   ],
   "source": [
    "X_train.shape"
   ]
  },
  {
   "cell_type": "code",
   "execution_count": 49,
   "id": "settled-organizer",
   "metadata": {},
   "outputs": [
    {
     "data": {
      "text/plain": [
       "(10257, 25)"
      ]
     },
     "execution_count": 49,
     "metadata": {},
     "output_type": "execute_result"
    }
   ],
   "source": [
    "X_val.shape"
   ]
  },
  {
   "cell_type": "code",
   "execution_count": null,
   "id": "acute-abraham",
   "metadata": {},
   "outputs": [],
   "source": [
    "\"\"\"['Intake_Type', 'Intake_Condition', 'Sex_Upon_Outcome', 'OutcomeBreed','OutcomeColor','TimeSinceIntake','AgeYrs','No_Known_Owner']\"\"\"\n",
    "#'Outcome_Type'\n",
    "#'Outcome_Subtype'\n",
    "# 'Outcome_Age','Outcome_Animal_Type'"
   ]
  },
  {
   "cell_type": "code",
   "execution_count": null,
   "id": "killing-creativity",
   "metadata": {},
   "outputs": [],
   "source": [
    "#Stand. - 'AgeYrs' , 'TimeSinceIntake'\n",
    "#\n",
    "#OHE - 'Sex_Upon_Outcome', 'OutcomeBreed' , 'OutcomeColor','Intake_Type','Intake_Condition'"
   ]
  },
  {
   "cell_type": "code",
   "execution_count": 23,
   "id": "resident-decade",
   "metadata": {},
   "outputs": [
    {
     "data": {
      "text/plain": [
       "Stray                 38114\n",
       "Owner Surrender       11354\n",
       "Public Assist          1223\n",
       "NaN                     426\n",
       "Abandoned                98\n",
       "Euthanasia Request       67\n",
       "Name: Intake_Type, dtype: int64"
      ]
     },
     "execution_count": 23,
     "metadata": {},
     "output_type": "execute_result"
    }
   ],
   "source": [
    "atxac_df['Intake_Type'].value_counts(dropna=False)"
   ]
  },
  {
   "cell_type": "code",
   "execution_count": 50,
   "id": "olive-silly",
   "metadata": {},
   "outputs": [],
   "source": [
    "ohe = OneHotEncoder(handle_unknown='ignore')\n",
    "ohe.fit(X_train[['Sex_Upon_Outcome','OutcomeBreed']])\n",
    "suo = ohe.transform(X_train[['Sex_Upon_Outcome','OutcomeBreed']]).toarray()"
   ]
  },
  {
   "cell_type": "code",
   "execution_count": 51,
   "id": "conventional-termination",
   "metadata": {},
   "outputs": [
    {
     "data": {
      "text/plain": [
       "(30768, 91)"
      ]
     },
     "execution_count": 51,
     "metadata": {},
     "output_type": "execute_result"
    }
   ],
   "source": [
    "suo.shape"
   ]
  },
  {
   "cell_type": "code",
   "execution_count": 52,
   "id": "statewide-bidding",
   "metadata": {},
   "outputs": [
    {
     "data": {
      "text/plain": [
       "KNeighborsClassifier()"
      ]
     },
     "execution_count": 52,
     "metadata": {},
     "output_type": "execute_result"
    }
   ],
   "source": [
    "knn = KNeighborsClassifier()\n",
    "knn.fit(suo,y_train)"
   ]
  },
  {
   "cell_type": "code",
   "execution_count": 53,
   "id": "unlimited-pressure",
   "metadata": {},
   "outputs": [],
   "source": [
    "suo_val = ohe.transform(X_val[['Sex_Upon_Outcome','OutcomeBreed']]).toarray()"
   ]
  },
  {
   "cell_type": "code",
   "execution_count": 54,
   "id": "bearing-brisbane",
   "metadata": {},
   "outputs": [
    {
     "data": {
      "text/plain": [
       "(10257, 91)"
      ]
     },
     "execution_count": 54,
     "metadata": {},
     "output_type": "execute_result"
    }
   ],
   "source": [
    "suo_val.shape"
   ]
  },
  {
   "cell_type": "code",
   "execution_count": 55,
   "id": "mediterranean-actress",
   "metadata": {},
   "outputs": [
    {
     "data": {
      "text/plain": [
       "0.7478794969289266"
      ]
     },
     "execution_count": 55,
     "metadata": {},
     "output_type": "execute_result"
    }
   ],
   "source": [
    "y_pred = knn.predict(suo_val)\n",
    "metrics.accuracy_score(y_val,y_pred)"
   ]
  },
  {
   "cell_type": "code",
   "execution_count": 63,
   "id": "foster-saskatchewan",
   "metadata": {},
   "outputs": [
    {
     "name": "stdout",
     "output_type": "stream",
     "text": [
      "kNN confusion matrix: \n",
      "\n",
      " [[4638  223   13]\n",
      " [1183 3019   16]\n",
      " [ 653  498   14]]\n"
     ]
    }
   ],
   "source": [
    "from sklearn.metrics import confusion_matrix\n",
    "print(\"kNN confusion matrix: \\n\\n\", confusion_matrix(y_val, y_pred,labels=['Adoption','Transfer','Other']))"
   ]
  },
  {
   "cell_type": "code",
   "execution_count": 61,
   "id": "novel-steering",
   "metadata": {},
   "outputs": [
    {
     "data": {
      "text/plain": [
       "<AxesSubplot:>"
      ]
     },
     "execution_count": 61,
     "metadata": {},
     "output_type": "execute_result"
    },
    {
     "data": {
      "image/png": "[encoded data removed]",
      "text/plain": [
       "<Figure size 900x600 with 2 Axes>"
      ]
     },
     "metadata": {},
     "output_type": "display_data"
    }
   ],
   "source": [
    "knn_confusion = confusion_matrix(y_val, y_pred,labels=['Adoption','Transfer','Other'])\n",
    "plt.figure(dpi=150)\n",
    "sns.heatmap(knn_confusion, cmap=plt.cm.Blues, annot=True, square=True, xticklabels=['Adoption','Transfer','Other'],\n",
    "           yticklabels=['Adoption','Transfer','Other'])"
   ]
  },
  {
   "cell_type": "code",
   "execution_count": null,
   "id": "automated-somewhere",
   "metadata": {},
   "outputs": [],
   "source": []
  }
 ],
 "metadata": {
  "kernelspec": {
   "display_name": "Python 3",
   "language": "python",
   "name": "python3"
  },
  "language_info": {
   "codemirror_mode": {
    "name": "ipython",
    "version": 3
   },
   "file_extension": ".py",
   "mimetype": "text/x-python",
   "name": "python",
   "nbconvert_exporter": "python",
   "pygments_lexer": "ipython3",
   "version": "3.7.9"
  }
 },
 "nbformat": 4,
 "nbformat_minor": 5
}
