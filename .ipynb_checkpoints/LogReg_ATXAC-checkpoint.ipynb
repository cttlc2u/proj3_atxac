{
 "cells": [
  {
   "cell_type": "code",
   "execution_count": null,
   "id": "metropolitan-baptist",
   "metadata": {},
   "outputs": [],
   "source": [
    "%pylab inline\n",
    "\n",
    "import pandas as pd\n",
    "import seaborn as sns\n",
    "sns.set()\n",
    "import pickle\n",
    "\n",
    "from sklearn.model_selection import train_test_split , cross_val_score, StratifiedShuffleSplit, LogisticRegression\n",
    "from sklearn.preprocessing import StandardScaler, PolynomialFeatures, OneHotEncoder\n",
    "from sklearn import metrics"
   ]
  },
  {
   "cell_type": "code",
   "execution_count": null,
   "id": "capable-subdivision",
   "metadata": {},
   "outputs": [],
   "source": [
    "with open('atxac_de.pickle', 'rb') as read_aacde:\n",
    "    atxac_df = pickle.load(read_aacde)"
   ]
  },
  {
   "cell_type": "code",
   "execution_count": null,
   "id": "municipal-mainland",
   "metadata": {},
   "outputs": [],
   "source": [
    "X_train_val, X_test, y_train_val, y_test = train_test_split(X, y, test_size=.2, random_state=88,stratify=y)"
   ]
  },
  {
   "cell_type": "code",
   "execution_count": null,
   "id": "copyrighted-welcome",
   "metadata": {},
   "outputs": [],
   "source": [
    "X_train, X_val, y_train, y_val = train_test_split(X_train_val, y_train_val, test_size=.25, random_state=24,stratify=y_train_val)"
   ]
  },
  {
   "cell_type": "code",
   "execution_count": null,
   "id": "addressed-demonstration",
   "metadata": {},
   "outputs": [],
   "source": []
  },
  {
   "cell_type": "code",
   "execution_count": null,
   "id": "nasty-montgomery",
   "metadata": {},
   "outputs": [],
   "source": [
    "sns.pairplot(df_train, corner=True, height=1.5, plot_kws={'size': 3}, hue='in_sf');"
   ]
  },
  {
   "cell_type": "code",
   "execution_count": null,
   "id": "checked-motivation",
   "metadata": {},
   "outputs": [],
   "source": []
  },
  {
   "cell_type": "code",
   "execution_count": null,
   "id": "owned-clone",
   "metadata": {},
   "outputs": [],
   "source": [
    "lm_ovr = LogisticRegression(multi_class='ovr')\n",
    "lm_mn = LogisticRegression(multi_class='multinomial')"
   ]
  },
  {
   "cell_type": "code",
   "execution_count": null,
   "id": "resistant-consumer",
   "metadata": {},
   "outputs": [],
   "source": [
    "lm_ovr.fit(X_train, y_train)\n",
    "lm_mn.fit(X_train, y_train)"
   ]
  },
  {
   "cell_type": "code",
   "execution_count": null,
   "id": "hungry-wednesday",
   "metadata": {},
   "outputs": [],
   "source": [
    "preds_ovr = lm_ovr.predict(df_test[digits.feature_names])\n",
    "preds_mn = lm_mn.predict(df_test[digits.feature_names])"
   ]
  },
  {
   "cell_type": "code",
   "execution_count": null,
   "id": "incomplete-secretary",
   "metadata": {},
   "outputs": [],
   "source": [
    "print(\"kNN confusion matrix: \\n\\n\", confusion_matrix(y_val, y_pred,labels=['Adoption','Transfer','Other']))"
   ]
  },
  {
   "cell_type": "code",
   "execution_count": null,
   "id": "blind-paris",
   "metadata": {},
   "outputs": [],
   "source": [
    "preds_proba_ovr = lm_ovr.predict_proba(df_test[digits.feature_names])\n",
    "preds_proba_mn = lm_mn.predict_proba(df_test[digits.feature_names])"
   ]
  }
 ],
 "metadata": {
  "kernelspec": {
   "display_name": "Python 3",
   "language": "python",
   "name": "python3"
  },
  "language_info": {
   "codemirror_mode": {
    "name": "ipython",
    "version": 3
   },
   "file_extension": ".py",
   "mimetype": "text/x-python",
   "name": "python",
   "nbconvert_exporter": "python",
   "pygments_lexer": "ipython3",
   "version": "3.7.9"
  }
 },
 "nbformat": 4,
 "nbformat_minor": 5
}
