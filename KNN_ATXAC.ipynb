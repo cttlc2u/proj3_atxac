{
 "cells": [
  {
   "cell_type": "code",
   "execution_count": 20,
   "id": "tested-design",
   "metadata": {},
   "outputs": [
    {
     "name": "stdout",
     "output_type": "stream",
     "text": [
      "Populating the interactive namespace from numpy and matplotlib\n"
     ]
    }
   ],
   "source": [
    "%pylab inline\n",
    "\n",
    "import pandas as pd\n",
    "import seaborn as sns\n",
    "sns.set()\n",
    "import pickle\n",
    "from sklearn.neighbors import KNeighborsClassifier , RadiusNeighborsClassifier\n",
    "from sklearn.model_selection import train_test_split , cross_val_score, StratifiedShuffleSplit, cross_val_predict\n",
    "from sklearn.preprocessing import StandardScaler, PolynomialFeatures, OneHotEncoder\n",
    "from sklearn import metrics\n",
    "from imblearn.over_sampling import RandomOverSampler, SMOTE, ADASYN\n",
    "from collections import Counter"
   ]
  },
  {
   "cell_type": "code",
   "execution_count": 3,
   "id": "posted-catholic",
   "metadata": {},
   "outputs": [],
   "source": [
    "with open('atxac_de.pickle', 'rb') as read_aacde:\n",
    "    atxac_df = pickle.load(read_aacde)"
   ]
  },
  {
   "cell_type": "code",
   "execution_count": 43,
   "id": "handmade-calvin",
   "metadata": {},
   "outputs": [],
   "source": [
    "split = StratifiedShuffleSplit(n_splits=1, test_size=0.2, random_state=88 )\n",
    "for train_index, test_index in split.split(atxac_df, atxac_df['Updated_Outcome_Type']):\n",
    "    strat_train_set = atxac_df.loc[train_index]\n",
    "    strat_test_set = atxac_df.loc[test_index]"
   ]
  },
  {
   "cell_type": "code",
   "execution_count": 44,
   "id": "aboriginal-western",
   "metadata": {},
   "outputs": [],
   "source": [
    "X_train = strat_train_set.drop(columns=['Outcome_Type','Updated_Outcome_Type'])\n",
    "y_train = strat_train_set['Updated_Outcome_Type']\n",
    "X_test = strat_test_set.drop(columns=['Outcome_Type','Updated_Outcome_Type'])\n",
    "y_test = strat_test_set['Updated_Outcome_Type']"
   ]
  },
  {
   "cell_type": "code",
   "execution_count": 4,
   "id": "trying-ordinance",
   "metadata": {},
   "outputs": [],
   "source": [
    "X = atxac_df.drop(columns=['Outcome_Type','Updated_Outcome_Type'])\n",
    "y = atxac_df['Updated_Outcome_Type']"
   ]
  },
  {
   "cell_type": "code",
   "execution_count": 24,
   "id": "endless-rental",
   "metadata": {},
   "outputs": [],
   "source": [
    "X_train_val, X_test, y_train_val, y_test = train_test_split(X, y, test_size=.2, random_state=88,stratify=y)"
   ]
  },
  {
   "cell_type": "code",
   "execution_count": 25,
   "id": "sharing-worker",
   "metadata": {},
   "outputs": [],
   "source": [
    "X_train, X_val, y_train, y_val = train_test_split(X_train_val, y_train_val, test_size=.25, random_state=24,stratify=y_train_val)"
   ]
  },
  {
   "cell_type": "code",
   "execution_count": 38,
   "id": "contrary-indiana",
   "metadata": {},
   "outputs": [
    {
     "data": {
      "text/plain": [
       "array(['Transfer', 'Adoption', 'Transfer', ..., 'Transfer', 'Transfer',\n",
       "       'Adoption'], dtype=object)"
      ]
     },
     "execution_count": 38,
     "metadata": {},
     "output_type": "execute_result"
    }
   ],
   "source": [
    "y_pred"
   ]
  },
  {
   "cell_type": "code",
   "execution_count": 48,
   "id": "blank-andorra",
   "metadata": {},
   "outputs": [
    {
     "data": {
      "text/plain": [
       "(30768, 25)"
      ]
     },
     "execution_count": 48,
     "metadata": {},
     "output_type": "execute_result"
    }
   ],
   "source": [
    "X_train.shape"
   ]
  },
  {
   "cell_type": "code",
   "execution_count": 49,
   "id": "settled-organizer",
   "metadata": {},
   "outputs": [
    {
     "data": {
      "text/plain": [
       "(10257, 25)"
      ]
     },
     "execution_count": 49,
     "metadata": {},
     "output_type": "execute_result"
    }
   ],
   "source": [
    "X_val.shape"
   ]
  },
  {
   "cell_type": "code",
   "execution_count": null,
   "id": "acute-abraham",
   "metadata": {},
   "outputs": [],
   "source": [
    "\"\"\"['Intake_Type', 'Intake_Condition', 'Sex_Upon_Outcome', 'OutcomeBreed','OutcomeColor','TimeSinceIntake','AgeYrs','No_Known_Owner']\"\"\"\n",
    "#'Outcome_Type'\n",
    "#'Outcome_Subtype'\n",
    "# 'Outcome_Age','Outcome_Animal_Type'"
   ]
  },
  {
   "cell_type": "code",
   "execution_count": null,
   "id": "killing-creativity",
   "metadata": {},
   "outputs": [],
   "source": [
    "#Stand. - 'AgeYrs' , 'TimeSinceIntake'\n",
    "#\n",
    "#OHE - 'Sex_Upon_Outcome', 'OutcomeBreed' , 'OutcomeColor','Intake_Type','Intake_Condition'"
   ]
  },
  {
   "cell_type": "code",
   "execution_count": 9,
   "id": "killing-spell",
   "metadata": {},
   "outputs": [
    {
     "data": {
      "text/html": [
       "<div>\n",
       "<style scoped>\n",
       "    .dataframe tbody tr th:only-of-type {\n",
       "        vertical-align: middle;\n",
       "    }\n",
       "\n",
       "    .dataframe tbody tr th {\n",
       "        vertical-align: top;\n",
       "    }\n",
       "\n",
       "    .dataframe thead th {\n",
       "        text-align: right;\n",
       "    }\n",
       "</style>\n",
       "<table border=\"1\" class=\"dataframe\">\n",
       "  <thead>\n",
       "    <tr style=\"text-align: right;\">\n",
       "      <th></th>\n",
       "      <th>Animal_ID</th>\n",
       "      <th>Name</th>\n",
       "      <th>IntakeDateTime</th>\n",
       "      <th>IntakeMonthYear</th>\n",
       "      <th>Found_Location</th>\n",
       "      <th>Intake_Type</th>\n",
       "      <th>Intake_Condition</th>\n",
       "      <th>Animal_Type</th>\n",
       "      <th>Sex_Upon_Intake</th>\n",
       "      <th>Age_Upon_Intake</th>\n",
       "      <th>...</th>\n",
       "      <th>Outcome_Subtype</th>\n",
       "      <th>Outcome_Animal_Type</th>\n",
       "      <th>Sex_Upon_Outcome</th>\n",
       "      <th>Outcome_Age</th>\n",
       "      <th>OutcomeBreed</th>\n",
       "      <th>OutcomeColor</th>\n",
       "      <th>No_Known_Owner</th>\n",
       "      <th>TimeSinceIntake</th>\n",
       "      <th>Updated_Outcome_Type</th>\n",
       "      <th>AgeYrs</th>\n",
       "    </tr>\n",
       "  </thead>\n",
       "  <tbody>\n",
       "    <tr>\n",
       "      <th>0</th>\n",
       "      <td>A696409</td>\n",
       "      <td>*Hans</td>\n",
       "      <td>2015-02-04 13:23:00</td>\n",
       "      <td>02/04/2015 01:23:00 PM</td>\n",
       "      <td>2101 E 12Th St in Austin (TX)</td>\n",
       "      <td>Stray</td>\n",
       "      <td>Normal</td>\n",
       "      <td>Cat</td>\n",
       "      <td>Intact Male</td>\n",
       "      <td>2 months</td>\n",
       "      <td>...</td>\n",
       "      <td>None</td>\n",
       "      <td>Cat</td>\n",
       "      <td>Neutered Male</td>\n",
       "      <td>2 months</td>\n",
       "      <td>Domestic Shorthair Mix</td>\n",
       "      <td>Black</td>\n",
       "      <td>1.0</td>\n",
       "      <td>5 days 05:23:00</td>\n",
       "      <td>Adoption</td>\n",
       "      <td>0.166667</td>\n",
       "    </tr>\n",
       "    <tr>\n",
       "      <th>1</th>\n",
       "      <td>A782089</td>\n",
       "      <td>Unknown</td>\n",
       "      <td>2018-10-10 14:27:00</td>\n",
       "      <td>10/10/2018 02:27:00 PM</td>\n",
       "      <td>5918 Alsace Trail in Austin (TX)</td>\n",
       "      <td>Stray</td>\n",
       "      <td>Injured</td>\n",
       "      <td>Cat</td>\n",
       "      <td>Intact Female</td>\n",
       "      <td>2 years</td>\n",
       "      <td>...</td>\n",
       "      <td>Suffering</td>\n",
       "      <td>Cat</td>\n",
       "      <td>Intact Female</td>\n",
       "      <td>2 years</td>\n",
       "      <td>Domestic Shorthair Mix</td>\n",
       "      <td>Tan/Black</td>\n",
       "      <td>0.0</td>\n",
       "      <td>0 days 06:33:00</td>\n",
       "      <td>Other</td>\n",
       "      <td>2.000000</td>\n",
       "    </tr>\n",
       "    <tr>\n",
       "      <th>2</th>\n",
       "      <td>A739966</td>\n",
       "      <td>*Skippyjohn</td>\n",
       "      <td>2016-12-09 16:08:00</td>\n",
       "      <td>12/09/2016 04:08:00 PM</td>\n",
       "      <td>Pleasant Valley And Nuckols Crossing in Austin...</td>\n",
       "      <td>Stray</td>\n",
       "      <td>Normal</td>\n",
       "      <td>Cat</td>\n",
       "      <td>Intact Male</td>\n",
       "      <td>4 weeks</td>\n",
       "      <td>...</td>\n",
       "      <td>Foster</td>\n",
       "      <td>Cat</td>\n",
       "      <td>Neutered Male</td>\n",
       "      <td>3 months</td>\n",
       "      <td>Siamese Mix</td>\n",
       "      <td>Seal Point</td>\n",
       "      <td>1.0</td>\n",
       "      <td>62 days 15:26:00</td>\n",
       "      <td>Adoption</td>\n",
       "      <td>0.250000</td>\n",
       "    </tr>\n",
       "    <tr>\n",
       "      <th>3</th>\n",
       "      <td>A739966</td>\n",
       "      <td>*Skippyjohn</td>\n",
       "      <td>2017-02-08 13:08:00</td>\n",
       "      <td>02/08/2017 01:08:00 PM</td>\n",
       "      <td>Pflugerville (TX)</td>\n",
       "      <td>Owner Surrender</td>\n",
       "      <td>Normal</td>\n",
       "      <td>Cat</td>\n",
       "      <td>Neutered Male</td>\n",
       "      <td>2 months</td>\n",
       "      <td>...</td>\n",
       "      <td>Foster</td>\n",
       "      <td>Cat</td>\n",
       "      <td>Neutered Male</td>\n",
       "      <td>3 months</td>\n",
       "      <td>Siamese Mix</td>\n",
       "      <td>Seal Point</td>\n",
       "      <td>1.0</td>\n",
       "      <td>1 days 18:26:00</td>\n",
       "      <td>Adoption</td>\n",
       "      <td>0.250000</td>\n",
       "    </tr>\n",
       "    <tr>\n",
       "      <th>4</th>\n",
       "      <td>A738706</td>\n",
       "      <td>Unknown</td>\n",
       "      <td>2016-11-19 15:28:00</td>\n",
       "      <td>11/19/2016 03:28:00 PM</td>\n",
       "      <td>5500 Ponciana in Austin (TX)</td>\n",
       "      <td>Stray</td>\n",
       "      <td>Normal</td>\n",
       "      <td>Cat</td>\n",
       "      <td>Intact Female</td>\n",
       "      <td>2 years</td>\n",
       "      <td>...</td>\n",
       "      <td>SCRP</td>\n",
       "      <td>Cat</td>\n",
       "      <td>Intact Female</td>\n",
       "      <td>2 years</td>\n",
       "      <td>Domestic Shorthair Mix</td>\n",
       "      <td>Orange Tabby</td>\n",
       "      <td>0.0</td>\n",
       "      <td>0 days 17:32:00</td>\n",
       "      <td>Transfer</td>\n",
       "      <td>2.000000</td>\n",
       "    </tr>\n",
       "  </tbody>\n",
       "</table>\n",
       "<p>5 rows × 28 columns</p>\n",
       "</div>"
      ],
      "text/plain": [
       "  Animal_ID         Name      IntakeDateTime         IntakeMonthYear  \\\n",
       "0   A696409        *Hans 2015-02-04 13:23:00  02/04/2015 01:23:00 PM   \n",
       "1   A782089      Unknown 2018-10-10 14:27:00  10/10/2018 02:27:00 PM   \n",
       "2   A739966  *Skippyjohn 2016-12-09 16:08:00  12/09/2016 04:08:00 PM   \n",
       "3   A739966  *Skippyjohn 2017-02-08 13:08:00  02/08/2017 01:08:00 PM   \n",
       "4   A738706      Unknown 2016-11-19 15:28:00  11/19/2016 03:28:00 PM   \n",
       "\n",
       "                                      Found_Location      Intake_Type  \\\n",
       "0                      2101 E 12Th St in Austin (TX)            Stray   \n",
       "1                   5918 Alsace Trail in Austin (TX)            Stray   \n",
       "2  Pleasant Valley And Nuckols Crossing in Austin...            Stray   \n",
       "3                                  Pflugerville (TX)  Owner Surrender   \n",
       "4                       5500 Ponciana in Austin (TX)            Stray   \n",
       "\n",
       "  Intake_Condition Animal_Type Sex_Upon_Intake Age_Upon_Intake  ...  \\\n",
       "0           Normal         Cat     Intact Male        2 months  ...   \n",
       "1          Injured         Cat   Intact Female         2 years  ...   \n",
       "2           Normal         Cat     Intact Male         4 weeks  ...   \n",
       "3           Normal         Cat   Neutered Male        2 months  ...   \n",
       "4           Normal         Cat   Intact Female         2 years  ...   \n",
       "\n",
       "  Outcome_Subtype Outcome_Animal_Type Sex_Upon_Outcome Outcome_Age  \\\n",
       "0            None                 Cat    Neutered Male    2 months   \n",
       "1       Suffering                 Cat    Intact Female     2 years   \n",
       "2          Foster                 Cat    Neutered Male    3 months   \n",
       "3          Foster                 Cat    Neutered Male    3 months   \n",
       "4            SCRP                 Cat    Intact Female     2 years   \n",
       "\n",
       "             OutcomeBreed  OutcomeColor No_Known_Owner  TimeSinceIntake  \\\n",
       "0  Domestic Shorthair Mix         Black            1.0  5 days 05:23:00   \n",
       "1  Domestic Shorthair Mix     Tan/Black            0.0  0 days 06:33:00   \n",
       "2             Siamese Mix    Seal Point            1.0 62 days 15:26:00   \n",
       "3             Siamese Mix    Seal Point            1.0  1 days 18:26:00   \n",
       "4  Domestic Shorthair Mix  Orange Tabby            0.0  0 days 17:32:00   \n",
       "\n",
       "  Updated_Outcome_Type    AgeYrs  \n",
       "0             Adoption  0.166667  \n",
       "1                Other  2.000000  \n",
       "2             Adoption  0.250000  \n",
       "3             Adoption  0.250000  \n",
       "4             Transfer  2.000000  \n",
       "\n",
       "[5 rows x 28 columns]"
      ]
     },
     "execution_count": 9,
     "metadata": {},
     "output_type": "execute_result"
    }
   ],
   "source": [
    "atxac_df.head()"
   ]
  },
  {
   "cell_type": "code",
   "execution_count": 23,
   "id": "treated-editing",
   "metadata": {},
   "outputs": [
    {
     "data": {
      "image/png": "[encoded data removed]",
      "text/plain": [
       "<Figure size 862.3x720 with 5 Axes>"
      ]
     },
     "metadata": {},
     "output_type": "display_data"
    }
   ],
   "source": [
    "sns.pairplot(pd.concat([X_train_val,y_train_val],axis=1), corner=True, height=5, plot_kws={'size': 3}, hue='Updated_Outcome_Type');"
   ]
  },
  {
   "cell_type": "code",
   "execution_count": 17,
   "id": "afraid-soundtrack",
   "metadata": {},
   "outputs": [
    {
     "data": {
      "text/plain": [
       "<AxesSubplot:xlabel='Sex_Upon_Outcome', ylabel='count'>"
      ]
     },
     "execution_count": 17,
     "metadata": {},
     "output_type": "execute_result"
    },
    {
     "data": {
      "image/png": "[encoded data removed]",
      "text/plain": [
       "<Figure size 432x288 with 1 Axes>"
      ]
     },
     "metadata": {},
     "output_type": "display_data"
    }
   ],
   "source": [
    "sns.countplot(x = X_train_val['Sex_Upon_Outcome'], hue=y_train_val, data=pd.concat([X_train_val,y_train_val],axis=1))"
   ]
  },
  {
   "cell_type": "code",
   "execution_count": 21,
   "id": "transparent-falls",
   "metadata": {},
   "outputs": [
    {
     "data": {
      "text/plain": [
       "<AxesSubplot:xlabel='Intake_Type', ylabel='count'>"
      ]
     },
     "execution_count": 21,
     "metadata": {},
     "output_type": "execute_result"
    },
    {
     "data": {
      "image/png": "[encoded data removed]",
      "text/plain": [
       "<Figure size 432x288 with 1 Axes>"
      ]
     },
     "metadata": {},
     "output_type": "display_data"
    }
   ],
   "source": [
    "sns.countplot(x = X_train_val['Intake_Type'], hue=y_train_val, data=pd.concat([X_train_val,y_train_val],axis=1))"
   ]
  },
  {
   "cell_type": "code",
   "execution_count": 22,
   "id": "under-radius",
   "metadata": {},
   "outputs": [
    {
     "data": {
      "text/plain": [
       "<AxesSubplot:xlabel='Intake_Condition', ylabel='count'>"
      ]
     },
     "execution_count": 22,
     "metadata": {},
     "output_type": "execute_result"
    },
    {
     "data": {
      "image/png": "[encoded data removed]",
      "text/plain": [
       "<Figure size 432x288 with 1 Axes>"
      ]
     },
     "metadata": {},
     "output_type": "display_data"
    }
   ],
   "source": [
    "sns.countplot(x = X_train_val['Intake_Condition'], hue=y_train_val, data=pd.concat([X_train_val,y_train_val],axis=1))"
   ]
  },
  {
   "cell_type": "code",
   "execution_count": 23,
   "id": "resident-decade",
   "metadata": {},
   "outputs": [
    {
     "data": {
      "text/plain": [
       "Stray                 38114\n",
       "Owner Surrender       11354\n",
       "Public Assist          1223\n",
       "NaN                     426\n",
       "Abandoned                98\n",
       "Euthanasia Request       67\n",
       "Name: Intake_Type, dtype: int64"
      ]
     },
     "execution_count": 23,
     "metadata": {},
     "output_type": "execute_result"
    }
   ],
   "source": [
    "atxac_df['Intake_Type'].value_counts(dropna=False)"
   ]
  },
  {
   "cell_type": "code",
   "execution_count": 6,
   "id": "olive-silly",
   "metadata": {},
   "outputs": [
    {
     "ename": "NameError",
     "evalue": "name 'X_train' is not defined",
     "output_type": "error",
     "traceback": [
      "\u001b[0;31m---------------------------------------------------------------------------\u001b[0m",
      "\u001b[0;31mNameError\u001b[0m                                 Traceback (most recent call last)",
      "\u001b[0;32m<ipython-input-6-473060fd8bfd>\u001b[0m in \u001b[0;36m<module>\u001b[0;34m\u001b[0m\n\u001b[1;32m      1\u001b[0m \u001b[0mohe\u001b[0m \u001b[0;34m=\u001b[0m \u001b[0mOneHotEncoder\u001b[0m\u001b[0;34m(\u001b[0m\u001b[0mhandle_unknown\u001b[0m\u001b[0;34m=\u001b[0m\u001b[0;34m'ignore'\u001b[0m\u001b[0;34m)\u001b[0m\u001b[0;34m\u001b[0m\u001b[0;34m\u001b[0m\u001b[0m\n\u001b[0;32m----> 2\u001b[0;31m \u001b[0mohe\u001b[0m\u001b[0;34m.\u001b[0m\u001b[0mfit\u001b[0m\u001b[0;34m(\u001b[0m\u001b[0mX_train\u001b[0m\u001b[0;34m[\u001b[0m\u001b[0;34m[\u001b[0m\u001b[0;34m'Sex_Upon_Outcome'\u001b[0m\u001b[0;34m,\u001b[0m\u001b[0;34m'Intake_Type'\u001b[0m\u001b[0;34m,\u001b[0m\u001b[0;34m'Intake_Condition'\u001b[0m\u001b[0;34m]\u001b[0m\u001b[0;34m]\u001b[0m\u001b[0;34m)\u001b[0m\u001b[0;34m\u001b[0m\u001b[0;34m\u001b[0m\u001b[0m\n\u001b[0m\u001b[1;32m      3\u001b[0m \u001b[0mtop3\u001b[0m \u001b[0;34m=\u001b[0m \u001b[0mohe\u001b[0m\u001b[0;34m.\u001b[0m\u001b[0mtransform\u001b[0m\u001b[0;34m(\u001b[0m\u001b[0mX_train\u001b[0m\u001b[0;34m[\u001b[0m\u001b[0;34m[\u001b[0m\u001b[0;34m'Sex_Upon_Outcome'\u001b[0m\u001b[0;34m,\u001b[0m\u001b[0;34m'Intake_Type'\u001b[0m\u001b[0;34m,\u001b[0m\u001b[0;34m'Intake_Condition'\u001b[0m\u001b[0;34m]\u001b[0m\u001b[0;34m]\u001b[0m\u001b[0;34m)\u001b[0m\u001b[0;34m.\u001b[0m\u001b[0mtoarray\u001b[0m\u001b[0;34m(\u001b[0m\u001b[0;34m)\u001b[0m\u001b[0;34m\u001b[0m\u001b[0;34m\u001b[0m\u001b[0m\n",
      "\u001b[0;31mNameError\u001b[0m: name 'X_train' is not defined"
     ]
    }
   ],
   "source": [
    "ohe = OneHotEncoder(handle_unknown='ignore')\n",
    "ohe.fit(X_train[['Sex_Upon_Outcome','Intake_Type','Intake_Condition']])\n",
    "top3 = ohe.transform(X_train[['Sex_Upon_Outcome','Intake_Type','Intake_Condition']]).toarray()"
   ]
  },
  {
   "cell_type": "code",
   "execution_count": 31,
   "id": "conventional-termination",
   "metadata": {},
   "outputs": [
    {
     "data": {
      "text/plain": [
       "(30768, 22)"
      ]
     },
     "execution_count": 31,
     "metadata": {},
     "output_type": "execute_result"
    }
   ],
   "source": [
    "top3.shape"
   ]
  },
  {
   "cell_type": "code",
   "execution_count": 32,
   "id": "statewide-bidding",
   "metadata": {},
   "outputs": [
    {
     "data": {
      "text/plain": [
       "KNeighborsClassifier()"
      ]
     },
     "execution_count": 32,
     "metadata": {},
     "output_type": "execute_result"
    }
   ],
   "source": [
    "knn = KNeighborsClassifier()\n",
    "knn.fit(top3,y_train)"
   ]
  },
  {
   "cell_type": "code",
   "execution_count": 34,
   "id": "unlimited-pressure",
   "metadata": {},
   "outputs": [],
   "source": [
    "top3_val = ohe.transform(X_val[['Sex_Upon_Outcome','Intake_Type','Intake_Condition']]).toarray()"
   ]
  },
  {
   "cell_type": "code",
   "execution_count": 35,
   "id": "bearing-brisbane",
   "metadata": {},
   "outputs": [
    {
     "data": {
      "text/plain": [
       "(10257, 22)"
      ]
     },
     "execution_count": 35,
     "metadata": {},
     "output_type": "execute_result"
    }
   ],
   "source": [
    "top3_val.shape"
   ]
  },
  {
   "cell_type": "code",
   "execution_count": 36,
   "id": "mediterranean-actress",
   "metadata": {},
   "outputs": [
    {
     "data": {
      "text/plain": [
       "0.7418348444964414"
      ]
     },
     "execution_count": 36,
     "metadata": {},
     "output_type": "execute_result"
    }
   ],
   "source": [
    "y_pred = knn.predict(top3_val)\n",
    "metrics.accuracy_score(y_val,y_pred)"
   ]
  },
  {
   "cell_type": "code",
   "execution_count": 37,
   "id": "foster-saskatchewan",
   "metadata": {},
   "outputs": [
    {
     "name": "stdout",
     "output_type": "stream",
     "text": [
      "kNN confusion matrix: \n",
      "\n",
      " [[4459  233  181]\n",
      " [1200 2825  216]\n",
      " [ 470  348  325]]\n"
     ]
    }
   ],
   "source": [
    "from sklearn.metrics import confusion_matrix\n",
    "print(\"kNN confusion matrix: \\n\\n\", confusion_matrix(y_val, y_pred,labels=['Adoption','Transfer','Other']))"
   ]
  },
  {
   "cell_type": "code",
   "execution_count": 55,
   "id": "novel-steering",
   "metadata": {},
   "outputs": [
    {
     "data": {
      "image/png": "[encoded data removed]",
      "text/plain": [
       "<Figure size 360x360 with 2 Axes>"
      ]
     },
     "metadata": {},
     "output_type": "display_data"
    }
   ],
   "source": [
    "knn_confusion = confusion_matrix(y_val, y_pred,labels=['Adoption','Transfer','Other'])\n",
    "figsize(5,5)\n",
    "sns.heatmap(knn_confusion, cmap=plt.cm.Blues, annot=True, square=True, fmt=\"d\", xticklabels=['Adoption','Transfer','Other'],\n",
    "           yticklabels=['Adoption','Transfer','Other'])\n",
    "title('KNN');"
   ]
  },
  {
   "cell_type": "code",
   "execution_count": null,
   "id": "automated-somewhere",
   "metadata": {},
   "outputs": [],
   "source": []
  },
  {
   "cell_type": "code",
   "execution_count": 38,
   "id": "actual-doctor",
   "metadata": {},
   "outputs": [],
   "source": [
    "ohe = OneHotEncoder(handle_unknown='ignore')\n",
    "ohe.fit(X_train[['Sex_Upon_Outcome','Intake_Type','Intake_Condition','OutcomeBreed' , 'OutcomeColor']])\n",
    "all5 = ohe.transform(X_train[['Sex_Upon_Outcome','Intake_Type','Intake_Condition','OutcomeBreed' , 'OutcomeColor']]).toarray()"
   ]
  },
  {
   "cell_type": "code",
   "execution_count": 40,
   "id": "extensive-denial",
   "metadata": {},
   "outputs": [
    {
     "data": {
      "text/plain": [
       "KNeighborsClassifier()"
      ]
     },
     "execution_count": 40,
     "metadata": {},
     "output_type": "execute_result"
    }
   ],
   "source": [
    "knn = KNeighborsClassifier()\n",
    "knn.fit(all5,y_train)"
   ]
  },
  {
   "cell_type": "code",
   "execution_count": 39,
   "id": "reflected-radar",
   "metadata": {},
   "outputs": [],
   "source": [
    "all5_val = ohe.transform(X_val[['Sex_Upon_Outcome','Intake_Type','Intake_Condition','OutcomeBreed' , 'OutcomeColor']]).toarray()"
   ]
  },
  {
   "cell_type": "code",
   "execution_count": 42,
   "id": "outside-tomorrow",
   "metadata": {},
   "outputs": [
    {
     "data": {
      "text/plain": [
       "0.7280881349322414"
      ]
     },
     "execution_count": 42,
     "metadata": {},
     "output_type": "execute_result"
    }
   ],
   "source": [
    "y_pred = knn.predict(all5_val)\n",
    "metrics.accuracy_score(y_val,y_pred)"
   ]
  },
  {
   "cell_type": "code",
   "execution_count": 43,
   "id": "expensive-advocacy",
   "metadata": {},
   "outputs": [
    {
     "name": "stdout",
     "output_type": "stream",
     "text": [
      "kNN confusion matrix: \n",
      "\n",
      " [[4397  270  206]\n",
      " [1182 2787  272]\n",
      " [ 511  348  284]]\n"
     ]
    }
   ],
   "source": [
    "print(\"kNN confusion matrix: \\n\\n\", metrics.confusion_matrix(y_val, y_pred,labels=['Adoption','Transfer','Other']))"
   ]
  },
  {
   "cell_type": "code",
   "execution_count": 14,
   "id": "legislative-damages",
   "metadata": {},
   "outputs": [],
   "source": [
    "ohe = OneHotEncoder(handle_unknown='ignore')\n",
    "ohe.fit(X_train_val[['Sex_Upon_Outcome','Intake_Type','Intake_Condition']])\n",
    "top3 = ohe.transform(X_train_val[['Sex_Upon_Outcome','Intake_Type','Intake_Condition']]).toarray()"
   ]
  },
  {
   "cell_type": "code",
   "execution_count": 16,
   "id": "vanilla-departure",
   "metadata": {},
   "outputs": [],
   "source": [
    "ros = RandomOverSampler(random_state=0)\n",
    "X_resampled, y_resampled = ros.fit_sample(top3,y_train_val)"
   ]
  },
  {
   "cell_type": "code",
   "execution_count": 17,
   "id": "virgin-individual",
   "metadata": {},
   "outputs": [
    {
     "data": {
      "text/plain": [
       "Counter({'Transfer': 19491, 'Other': 19491, 'Adoption': 19491})"
      ]
     },
     "execution_count": 17,
     "metadata": {},
     "output_type": "execute_result"
    }
   ],
   "source": [
    "# Yay, balanced classes!\n",
    "Counter(y_resampled)"
   ]
  },
  {
   "cell_type": "code",
   "execution_count": 18,
   "id": "third-tragedy",
   "metadata": {},
   "outputs": [
    {
     "data": {
      "text/plain": [
       "array([0.57366396, 0.58606242, 0.56733647, 0.64220968, 0.63476997])"
      ]
     },
     "execution_count": 18,
     "metadata": {},
     "output_type": "execute_result"
    }
   ],
   "source": [
    "knn = KNeighborsClassifier()\n",
    "cross_val_score(knn,X_resampled,y_resampled)"
   ]
  },
  {
   "cell_type": "code",
   "execution_count": 21,
   "id": "thick-holocaust",
   "metadata": {},
   "outputs": [],
   "source": [
    "y_pred = cross_val_predict(knn, X_resampled, y_resampled)"
   ]
  },
  {
   "cell_type": "code",
   "execution_count": 23,
   "id": "proof-surface",
   "metadata": {},
   "outputs": [
    {
     "ename": "ValueError",
     "evalue": "Found input variables with inconsistent numbers of samples: [41025, 58473]",
     "output_type": "error",
     "traceback": [
      "\u001b[0;31m---------------------------------------------------------------------------\u001b[0m",
      "\u001b[0;31mValueError\u001b[0m                                Traceback (most recent call last)",
      "\u001b[0;32m<ipython-input-23-c87d6db2e42c>\u001b[0m in \u001b[0;36m<module>\u001b[0;34m\u001b[0m\n\u001b[1;32m      1\u001b[0m \u001b[0;32mfrom\u001b[0m \u001b[0msklearn\u001b[0m\u001b[0;34m.\u001b[0m\u001b[0mmetrics\u001b[0m \u001b[0;32mimport\u001b[0m \u001b[0mconfusion_matrix\u001b[0m\u001b[0;34m\u001b[0m\u001b[0;34m\u001b[0m\u001b[0m\n\u001b[0;32m----> 2\u001b[0;31m \u001b[0mprint\u001b[0m\u001b[0;34m(\u001b[0m\u001b[0;34m\"kNN_ros confusion matrix: \\n\\n\"\u001b[0m\u001b[0;34m,\u001b[0m \u001b[0mconfusion_matrix\u001b[0m\u001b[0;34m(\u001b[0m\u001b[0my_train_val\u001b[0m\u001b[0;34m,\u001b[0m \u001b[0my_pred\u001b[0m\u001b[0;34m,\u001b[0m\u001b[0mlabels\u001b[0m\u001b[0;34m=\u001b[0m\u001b[0;34m[\u001b[0m\u001b[0;34m'Adoption'\u001b[0m\u001b[0;34m,\u001b[0m\u001b[0;34m'Transfer'\u001b[0m\u001b[0;34m,\u001b[0m\u001b[0;34m'Other'\u001b[0m\u001b[0;34m]\u001b[0m\u001b[0;34m)\u001b[0m\u001b[0;34m)\u001b[0m\u001b[0;34m\u001b[0m\u001b[0;34m\u001b[0m\u001b[0m\n\u001b[0m",
      "\u001b[0;32m~/anaconda3/lib/python3.7/site-packages/sklearn/utils/validation.py\u001b[0m in \u001b[0;36minner_f\u001b[0;34m(*args, **kwargs)\u001b[0m\n\u001b[1;32m     70\u001b[0m                           FutureWarning)\n\u001b[1;32m     71\u001b[0m         \u001b[0mkwargs\u001b[0m\u001b[0;34m.\u001b[0m\u001b[0mupdate\u001b[0m\u001b[0;34m(\u001b[0m\u001b[0;34m{\u001b[0m\u001b[0mk\u001b[0m\u001b[0;34m:\u001b[0m \u001b[0marg\u001b[0m \u001b[0;32mfor\u001b[0m \u001b[0mk\u001b[0m\u001b[0;34m,\u001b[0m \u001b[0marg\u001b[0m \u001b[0;32min\u001b[0m \u001b[0mzip\u001b[0m\u001b[0;34m(\u001b[0m\u001b[0msig\u001b[0m\u001b[0;34m.\u001b[0m\u001b[0mparameters\u001b[0m\u001b[0;34m,\u001b[0m \u001b[0margs\u001b[0m\u001b[0;34m)\u001b[0m\u001b[0;34m}\u001b[0m\u001b[0;34m)\u001b[0m\u001b[0;34m\u001b[0m\u001b[0;34m\u001b[0m\u001b[0m\n\u001b[0;32m---> 72\u001b[0;31m         \u001b[0;32mreturn\u001b[0m \u001b[0mf\u001b[0m\u001b[0;34m(\u001b[0m\u001b[0;34m**\u001b[0m\u001b[0mkwargs\u001b[0m\u001b[0;34m)\u001b[0m\u001b[0;34m\u001b[0m\u001b[0;34m\u001b[0m\u001b[0m\n\u001b[0m\u001b[1;32m     73\u001b[0m     \u001b[0;32mreturn\u001b[0m \u001b[0minner_f\u001b[0m\u001b[0;34m\u001b[0m\u001b[0;34m\u001b[0m\u001b[0m\n\u001b[1;32m     74\u001b[0m \u001b[0;34m\u001b[0m\u001b[0m\n",
      "\u001b[0;32m~/anaconda3/lib/python3.7/site-packages/sklearn/metrics/_classification.py\u001b[0m in \u001b[0;36mconfusion_matrix\u001b[0;34m(y_true, y_pred, labels, sample_weight, normalize)\u001b[0m\n\u001b[1;32m    274\u001b[0m \u001b[0;34m\u001b[0m\u001b[0m\n\u001b[1;32m    275\u001b[0m     \"\"\"\n\u001b[0;32m--> 276\u001b[0;31m     \u001b[0my_type\u001b[0m\u001b[0;34m,\u001b[0m \u001b[0my_true\u001b[0m\u001b[0;34m,\u001b[0m \u001b[0my_pred\u001b[0m \u001b[0;34m=\u001b[0m \u001b[0m_check_targets\u001b[0m\u001b[0;34m(\u001b[0m\u001b[0my_true\u001b[0m\u001b[0;34m,\u001b[0m \u001b[0my_pred\u001b[0m\u001b[0;34m)\u001b[0m\u001b[0;34m\u001b[0m\u001b[0;34m\u001b[0m\u001b[0m\n\u001b[0m\u001b[1;32m    277\u001b[0m     \u001b[0;32mif\u001b[0m \u001b[0my_type\u001b[0m \u001b[0;32mnot\u001b[0m \u001b[0;32min\u001b[0m \u001b[0;34m(\u001b[0m\u001b[0;34m\"binary\"\u001b[0m\u001b[0;34m,\u001b[0m \u001b[0;34m\"multiclass\"\u001b[0m\u001b[0;34m)\u001b[0m\u001b[0;34m:\u001b[0m\u001b[0;34m\u001b[0m\u001b[0;34m\u001b[0m\u001b[0m\n\u001b[1;32m    278\u001b[0m         \u001b[0;32mraise\u001b[0m \u001b[0mValueError\u001b[0m\u001b[0;34m(\u001b[0m\u001b[0;34m\"%s is not supported\"\u001b[0m \u001b[0;34m%\u001b[0m \u001b[0my_type\u001b[0m\u001b[0;34m)\u001b[0m\u001b[0;34m\u001b[0m\u001b[0;34m\u001b[0m\u001b[0m\n",
      "\u001b[0;32m~/anaconda3/lib/python3.7/site-packages/sklearn/metrics/_classification.py\u001b[0m in \u001b[0;36m_check_targets\u001b[0;34m(y_true, y_pred)\u001b[0m\n\u001b[1;32m     79\u001b[0m     \u001b[0my_pred\u001b[0m \u001b[0;34m:\u001b[0m \u001b[0marray\u001b[0m \u001b[0;32mor\u001b[0m \u001b[0mindicator\u001b[0m \u001b[0mmatrix\u001b[0m\u001b[0;34m\u001b[0m\u001b[0;34m\u001b[0m\u001b[0m\n\u001b[1;32m     80\u001b[0m     \"\"\"\n\u001b[0;32m---> 81\u001b[0;31m     \u001b[0mcheck_consistent_length\u001b[0m\u001b[0;34m(\u001b[0m\u001b[0my_true\u001b[0m\u001b[0;34m,\u001b[0m \u001b[0my_pred\u001b[0m\u001b[0;34m)\u001b[0m\u001b[0;34m\u001b[0m\u001b[0;34m\u001b[0m\u001b[0m\n\u001b[0m\u001b[1;32m     82\u001b[0m     \u001b[0mtype_true\u001b[0m \u001b[0;34m=\u001b[0m \u001b[0mtype_of_target\u001b[0m\u001b[0;34m(\u001b[0m\u001b[0my_true\u001b[0m\u001b[0;34m)\u001b[0m\u001b[0;34m\u001b[0m\u001b[0;34m\u001b[0m\u001b[0m\n\u001b[1;32m     83\u001b[0m     \u001b[0mtype_pred\u001b[0m \u001b[0;34m=\u001b[0m \u001b[0mtype_of_target\u001b[0m\u001b[0;34m(\u001b[0m\u001b[0my_pred\u001b[0m\u001b[0;34m)\u001b[0m\u001b[0;34m\u001b[0m\u001b[0;34m\u001b[0m\u001b[0m\n",
      "\u001b[0;32m~/anaconda3/lib/python3.7/site-packages/sklearn/utils/validation.py\u001b[0m in \u001b[0;36mcheck_consistent_length\u001b[0;34m(*arrays)\u001b[0m\n\u001b[1;32m    254\u001b[0m     \u001b[0;32mif\u001b[0m \u001b[0mlen\u001b[0m\u001b[0;34m(\u001b[0m\u001b[0muniques\u001b[0m\u001b[0;34m)\u001b[0m \u001b[0;34m>\u001b[0m \u001b[0;36m1\u001b[0m\u001b[0;34m:\u001b[0m\u001b[0;34m\u001b[0m\u001b[0;34m\u001b[0m\u001b[0m\n\u001b[1;32m    255\u001b[0m         raise ValueError(\"Found input variables with inconsistent numbers of\"\n\u001b[0;32m--> 256\u001b[0;31m                          \" samples: %r\" % [int(l) for l in lengths])\n\u001b[0m\u001b[1;32m    257\u001b[0m \u001b[0;34m\u001b[0m\u001b[0m\n\u001b[1;32m    258\u001b[0m \u001b[0;34m\u001b[0m\u001b[0m\n",
      "\u001b[0;31mValueError\u001b[0m: Found input variables with inconsistent numbers of samples: [41025, 58473]"
     ]
    }
   ],
   "source": [
    "from sklearn.metrics import confusion_matrix\n",
    "print(\"kNN_ros confusion matrix: \\n\\n\", confusion_matrix(y_train_val, y_pred,labels=['Adoption','Transfer','Other']))"
   ]
  },
  {
   "cell_type": "code",
   "execution_count": 27,
   "id": "resident-draft",
   "metadata": {},
   "outputs": [],
   "source": [
    "ohe = OneHotEncoder(handle_unknown='ignore')\n",
    "ohe.fit(X_train[['Sex_Upon_Outcome','Intake_Type','Intake_Condition']])\n",
    "top3 = ohe.transform(X_train[['Sex_Upon_Outcome','Intake_Type','Intake_Condition']]).toarray()\n",
    "top3_val = ohe.transform(X_val[['Sex_Upon_Outcome','Intake_Type','Intake_Condition']]).toarray()"
   ]
  },
  {
   "cell_type": "code",
   "execution_count": 28,
   "id": "classified-natural",
   "metadata": {},
   "outputs": [],
   "source": [
    "ros = RandomOverSampler(random_state=0)\n",
    "X_resampled, y_resampled = ros.fit_sample(top3,y_train)"
   ]
  },
  {
   "cell_type": "code",
   "execution_count": 31,
   "id": "thrown-collective",
   "metadata": {},
   "outputs": [
    {
     "data": {
      "text/plain": [
       "Counter({'Transfer': 14618, 'Other': 14618, 'Adoption': 14618})"
      ]
     },
     "execution_count": 31,
     "metadata": {},
     "output_type": "execute_result"
    }
   ],
   "source": [
    "Counter(y_resampled)"
   ]
  },
  {
   "cell_type": "code",
   "execution_count": 29,
   "id": "corrected-nitrogen",
   "metadata": {},
   "outputs": [
    {
     "data": {
      "text/plain": [
       "KNeighborsClassifier()"
      ]
     },
     "execution_count": 29,
     "metadata": {},
     "output_type": "execute_result"
    }
   ],
   "source": [
    "knn = KNeighborsClassifier()\n",
    "knn.fit(X_resampled,y_resampled)"
   ]
  },
  {
   "cell_type": "code",
   "execution_count": 30,
   "id": "approved-helping",
   "metadata": {},
   "outputs": [
    {
     "name": "stdout",
     "output_type": "stream",
     "text": [
      "kNN confusion matrix: \n",
      "\n",
      " [[3185 1584  104]\n",
      " [ 810 3208  223]\n",
      " [ 342  464  337]]\n"
     ]
    }
   ],
   "source": [
    "y_pred = knn.predict(top3_val)\n",
    "metrics.accuracy_score(y_val,y_pred)\n",
    "from sklearn.metrics import confusion_matrix\n",
    "print(\"kNN confusion matrix: \\n\\n\", confusion_matrix(y_val, y_pred,labels=['Adoption','Transfer','Other']))"
   ]
  },
  {
   "cell_type": "code",
   "execution_count": 33,
   "id": "confident-union",
   "metadata": {},
   "outputs": [],
   "source": [
    "X_adasyn, y_adasyn = ADASYN(sampling_strategy='minority').fit_sample(top3,y_train)"
   ]
  },
  {
   "cell_type": "code",
   "execution_count": 35,
   "id": "dependent-airline",
   "metadata": {},
   "outputs": [
    {
     "data": {
      "text/plain": [
       "Counter({'Transfer': 12720, 'Other': 15386, 'Adoption': 14618})"
      ]
     },
     "execution_count": 35,
     "metadata": {},
     "output_type": "execute_result"
    }
   ],
   "source": [
    "Counter(y_adasyn)"
   ]
  },
  {
   "cell_type": "code",
   "execution_count": 36,
   "id": "coated-douglas",
   "metadata": {},
   "outputs": [
    {
     "data": {
      "text/plain": [
       "KNeighborsClassifier()"
      ]
     },
     "execution_count": 36,
     "metadata": {},
     "output_type": "execute_result"
    }
   ],
   "source": [
    "knn = KNeighborsClassifier()\n",
    "knn.fit(X_adasyn,y_adasyn)"
   ]
  },
  {
   "cell_type": "code",
   "execution_count": 37,
   "id": "eastern-parent",
   "metadata": {},
   "outputs": [
    {
     "name": "stdout",
     "output_type": "stream",
     "text": [
      "kNN confusion matrix: \n",
      "\n",
      " [[3696  828  349]\n",
      " [ 987 2001 1253]\n",
      " [ 373  292  478]]\n"
     ]
    }
   ],
   "source": [
    "y_pred = knn.predict(top3_val)\n",
    "metrics.accuracy_score(y_val,y_pred)\n",
    "from sklearn.metrics import confusion_matrix\n",
    "print(\"kNN confusion matrix: \\n\\n\", confusion_matrix(y_val, y_pred,labels=['Adoption','Transfer','Other']))"
   ]
  },
  {
   "cell_type": "code",
   "execution_count": 40,
   "id": "accurate-answer",
   "metadata": {},
   "outputs": [
    {
     "data": {
      "text/plain": [
       "Counter({'Transfer': 12720, 'Other': 14707, 'Adoption': 14618})"
      ]
     },
     "execution_count": 40,
     "metadata": {},
     "output_type": "execute_result"
    }
   ],
   "source": [
    "X_adasyn, y_adasyn = ADASYN(sampling_strategy='minority').fit_sample(all5,y_train)\n",
    "Counter(y_adasyn)"
   ]
  },
  {
   "cell_type": "code",
   "execution_count": 41,
   "id": "subject-remove",
   "metadata": {},
   "outputs": [
    {
     "name": "stdout",
     "output_type": "stream",
     "text": [
      "RF confusion matrix: \n",
      "\n",
      " [[3971  405  497]\n",
      " [1078 2498  665]\n",
      " [ 430  255  458]]\n"
     ]
    }
   ],
   "source": [
    "knn = KNeighborsClassifier()\n",
    "knn.fit(X_adasyn,y_adasyn)\n",
    "y_pred = knn.predict(all5_val)\n",
    "print(\"RF confusion matrix: \\n\\n\", metrics.confusion_matrix(y_val, y_pred,labels=['Adoption','Transfer','Other']))"
   ]
  }
 ],
 "metadata": {
  "kernelspec": {
   "display_name": "Python 3",
   "language": "python",
   "name": "python3"
  },
  "language_info": {
   "codemirror_mode": {
    "name": "ipython",
    "version": 3
   },
   "file_extension": ".py",
   "mimetype": "text/x-python",
   "name": "python",
   "nbconvert_exporter": "python",
   "pygments_lexer": "ipython3",
   "version": "3.7.9"
  }
 },
 "nbformat": 4,
 "nbformat_minor": 5
}
