{
 "cells": [
  {
   "cell_type": "code",
   "execution_count": 15,
   "id": "official-minutes",
   "metadata": {},
   "outputs": [
    {
     "name": "stdout",
     "output_type": "stream",
     "text": [
      "Populating the interactive namespace from numpy and matplotlib\n"
     ]
    }
   ],
   "source": [
    "%pylab inline\n",
    "\n",
    "import pandas as pd\n",
    "import seaborn as sns\n",
    "sns.set()\n",
    "import pickle\n",
    "from sklearn.naive_bayes import BernoulliNB, MultinomialNB, GaussianNB\n",
    "from sklearn.model_selection import train_test_split , cross_val_score, StratifiedShuffleSplit\n",
    "from sklearn.preprocessing import StandardScaler, PolynomialFeatures, OneHotEncoder\n",
    "from sklearn import metrics\n",
    "from sklearn.dummy import DummyClassifier"
   ]
  },
  {
   "cell_type": "code",
   "execution_count": 2,
   "id": "chubby-marina",
   "metadata": {},
   "outputs": [],
   "source": [
    "with open('atxac_de.pickle', 'rb') as read_aacde:\n",
    "    atxac_df = pickle.load(read_aacde)"
   ]
  },
  {
   "cell_type": "code",
   "execution_count": 4,
   "id": "obvious-aviation",
   "metadata": {},
   "outputs": [],
   "source": [
    "X = atxac_df.drop(columns=['Outcome_Type','Updated_Outcome_Type'])\n",
    "y = atxac_df['Updated_Outcome_Type']"
   ]
  },
  {
   "cell_type": "code",
   "execution_count": 5,
   "id": "imported-characteristic",
   "metadata": {},
   "outputs": [],
   "source": [
    "X_train_val, X_test, y_train_val, y_test = train_test_split(X, y, test_size=.2, random_state=88,stratify=y)"
   ]
  },
  {
   "cell_type": "code",
   "execution_count": 6,
   "id": "duplicate-decade",
   "metadata": {},
   "outputs": [],
   "source": [
    "X_train, X_val, y_train, y_val = train_test_split(X_train_val, y_train_val, test_size=.25, random_state=24,stratify=y_train_val)"
   ]
  },
  {
   "cell_type": "code",
   "execution_count": 7,
   "id": "dynamic-journalist",
   "metadata": {},
   "outputs": [],
   "source": [
    "features = ['Sex_Upon_Outcome','Intake_Type','Intake_Condition']"
   ]
  },
  {
   "cell_type": "code",
   "execution_count": 8,
   "id": "unnecessary-contract",
   "metadata": {},
   "outputs": [],
   "source": [
    "ohe = OneHotEncoder(handle_unknown='ignore')\n",
    "ohe.fit(X_train[features])\n",
    "top3 = ohe.transform(X_train[features]).toarray()"
   ]
  },
  {
   "cell_type": "code",
   "execution_count": 9,
   "id": "collaborative-repository",
   "metadata": {},
   "outputs": [],
   "source": [
    "top3_val = ohe.transform(X_val[features]).toarray()"
   ]
  },
  {
   "cell_type": "code",
   "execution_count": 10,
   "id": "statewide-chocolate",
   "metadata": {},
   "outputs": [
    {
     "data": {
      "text/plain": [
       "0.7295505508433265"
      ]
     },
     "execution_count": 10,
     "metadata": {},
     "output_type": "execute_result"
    }
   ],
   "source": [
    "nb = BernoulliNB()\n",
    "nb.fit(top3, y_train)\n",
    "nb.score(top3_val, y_val)"
   ]
  },
  {
   "cell_type": "code",
   "execution_count": 17,
   "id": "timely-engine",
   "metadata": {},
   "outputs": [],
   "source": [
    "y_pred = nb.predict(top3_val)"
   ]
  },
  {
   "cell_type": "code",
   "execution_count": 20,
   "id": "powered-personal",
   "metadata": {},
   "outputs": [
    {
     "name": "stdout",
     "output_type": "stream",
     "text": [
      "NB confusion matrix: \n",
      "\n",
      " [[4263  365  245]\n",
      " [1127 2911  203]\n",
      " [ 495  339  309]]\n"
     ]
    }
   ],
   "source": [
    "from sklearn.metrics import confusion_matrix\n",
    "print(\"NB confusion matrix: \\n\\n\", confusion_matrix(y_val, y_pred,labels=['Adoption','Transfer','Other']))"
   ]
  },
  {
   "cell_type": "code",
   "execution_count": 25,
   "id": "limiting-advertising",
   "metadata": {},
   "outputs": [
    {
     "data": {
      "image/png": "[encoded data removed]",
      "text/plain": [
       "<Figure size 432x288 with 2 Axes>"
      ]
     },
     "metadata": {},
     "output_type": "display_data"
    }
   ],
   "source": [
    "knn_confusion = confusion_matrix(y_val, y_pred,labels=['Adoption','Transfer','Other'])\n",
    "figsize=(4,4)\n",
    "sns.heatmap(knn_confusion, cmap=plt.cm.Blues, annot=True, square=True, fmt=\"d\", xticklabels=['Adoption','Transfer','Other'],\n",
    "           yticklabels=['Adoption','Transfer','Other'])\n",
    "title('BernNB');"
   ]
  },
  {
   "cell_type": "code",
   "execution_count": 16,
   "id": "detected-return",
   "metadata": {},
   "outputs": [
    {
     "name": "stderr",
     "output_type": "stream",
     "text": [
      "/Users/chuckcao/anaconda3/lib/python3.7/site-packages/sklearn/dummy.py:132: FutureWarning: The default value of strategy will change from stratified to prior in 0.24.\n",
      "  \"stratified to prior in 0.24.\", FutureWarning)\n"
     ]
    },
    {
     "data": {
      "text/plain": [
       "0.41688602905332944"
      ]
     },
     "execution_count": 16,
     "metadata": {},
     "output_type": "execute_result"
    }
   ],
   "source": [
    "#for Bern.NB\n",
    "dc = DummyClassifier() # not for real problems, just a baseline \n",
    "dc.fit(top3, y_train)\n",
    "dc.score(top3_val, y_test)"
   ]
  },
  {
   "cell_type": "code",
   "execution_count": null,
   "id": "changed-exchange",
   "metadata": {},
   "outputs": [],
   "source": []
  },
  {
   "cell_type": "code",
   "execution_count": 21,
   "id": "laughing-writer",
   "metadata": {},
   "outputs": [],
   "source": [
    "features = ['Sex_Upon_Outcome','Intake_Type','Intake_Condition','OutcomeBreed' , 'OutcomeColor']\n",
    "ohe = OneHotEncoder(handle_unknown='ignore')\n",
    "ohe.fit(X_train[features])\n",
    "all5 = ohe.transform(X_train[features]).toarray()\n",
    "all5_val = ohe.transform(X_val[features]).toarray()"
   ]
  },
  {
   "cell_type": "code",
   "execution_count": 22,
   "id": "scenic-thread",
   "metadata": {},
   "outputs": [
    {
     "data": {
      "text/plain": [
       "0.7264307302330116"
      ]
     },
     "execution_count": 22,
     "metadata": {},
     "output_type": "execute_result"
    }
   ],
   "source": [
    "nb = BernoulliNB()\n",
    "nb.fit(all5, y_train)\n",
    "nb.score(all5_val, y_val)"
   ]
  },
  {
   "cell_type": "code",
   "execution_count": 23,
   "id": "limiting-drive",
   "metadata": {},
   "outputs": [],
   "source": [
    "y_pred = nb.predict(all5_val)"
   ]
  },
  {
   "cell_type": "code",
   "execution_count": 24,
   "id": "studied-taste",
   "metadata": {},
   "outputs": [
    {
     "name": "stdout",
     "output_type": "stream",
     "text": [
      "NB confusion matrix: \n",
      "\n",
      " [[4260  364  249]\n",
      " [1127 2920  194]\n",
      " [ 485  387  271]]\n"
     ]
    }
   ],
   "source": [
    "from sklearn.metrics import confusion_matrix\n",
    "print(\"NB confusion matrix: \\n\\n\", confusion_matrix(y_val, y_pred,labels=['Adoption','Transfer','Other']))"
   ]
  },
  {
   "cell_type": "code",
   "execution_count": null,
   "id": "textile-institution",
   "metadata": {},
   "outputs": [],
   "source": []
  }
 ],
 "metadata": {
  "kernelspec": {
   "display_name": "Python 3",
   "language": "python",
   "name": "python3"
  },
  "language_info": {
   "codemirror_mode": {
    "name": "ipython",
    "version": 3
   },
   "file_extension": ".py",
   "mimetype": "text/x-python",
   "name": "python",
   "nbconvert_exporter": "python",
   "pygments_lexer": "ipython3",
   "version": "3.7.9"
  }
 },
 "nbformat": 4,
 "nbformat_minor": 5
}
